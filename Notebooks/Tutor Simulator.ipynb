{
 "cells": [
  {
   "cell_type": "code",
   "execution_count": 4,
   "metadata": {},
   "outputs": [
    {
     "ename": "FileNotFoundError",
     "evalue": "[Errno 2] File b'Data/transactions_village114.txt' does not exist: b'Data/transactions_village114.txt'",
     "output_type": "error",
     "traceback": [
      "\u001b[1;31m---------------------------------------------------------------------------\u001b[0m",
      "\u001b[1;31mFileNotFoundError\u001b[0m                         Traceback (most recent call last)",
      "\u001b[1;32m<ipython-input-4-d2ff294466a9>\u001b[0m in \u001b[0;36m<module>\u001b[1;34m\u001b[0m\n\u001b[0;32m      9\u001b[0m \u001b[1;32mimport\u001b[0m \u001b[0mmatplotlib\u001b[0m\u001b[1;33m.\u001b[0m\u001b[0mpyplot\u001b[0m \u001b[1;32mas\u001b[0m \u001b[0mplt\u001b[0m\u001b[1;33m\u001b[0m\u001b[1;33m\u001b[0m\u001b[0m\n\u001b[0;32m     10\u001b[0m \u001b[1;33m\u001b[0m\u001b[0m\n\u001b[1;32m---> 11\u001b[1;33m \u001b[0mactivity_bkt\u001b[0m\u001b[1;33m,\u001b[0m \u001b[0mactivity_to_kc_dict\u001b[0m\u001b[1;33m,\u001b[0m \u001b[0mskill_to_number_map\u001b[0m\u001b[1;33m,\u001b[0m \u001b[0mstudent_id_to_number_map\u001b[0m \u001b[1;33m=\u001b[0m \u001b[0mtrain_on_obs\u001b[0m\u001b[1;33m(\u001b[0m\u001b[1;36m1.0\u001b[0m\u001b[1;33m)\u001b[0m\u001b[1;33m\u001b[0m\u001b[1;33m\u001b[0m\u001b[0m\n\u001b[0m",
      "\u001b[1;32mD:\\CMU Intern\\RoboTutor-Analysis\\student_simulator.py\u001b[0m in \u001b[0;36mtrain_on_obs\u001b[1;34m(test_size, train_students)\u001b[0m\n\u001b[0;32m     17\u001b[0m \u001b[1;33m\u001b[0m\u001b[0m\n\u001b[0;32m     18\u001b[0m     \u001b[1;31m# Pandas data reading\u001b[0m\u001b[1;33m\u001b[0m\u001b[1;33m\u001b[0m\u001b[1;33m\u001b[0m\u001b[0m\n\u001b[1;32m---> 19\u001b[1;33m     \u001b[0mtransac_df\u001b[0m \u001b[1;33m=\u001b[0m \u001b[0mread_transac_table\u001b[0m\u001b[1;33m(\u001b[0m\u001b[0mpath_to_transac_table\u001b[0m\u001b[1;33m,\u001b[0m \u001b[0mfull_df\u001b[0m\u001b[1;33m=\u001b[0m\u001b[1;32mFalse\u001b[0m\u001b[1;33m)\u001b[0m\u001b[1;33m\u001b[0m\u001b[1;33m\u001b[0m\u001b[0m\n\u001b[0m\u001b[0;32m     20\u001b[0m     \u001b[0mcta_df\u001b[0m \u001b[1;33m=\u001b[0m \u001b[0mread_cta_table\u001b[0m\u001b[1;33m(\u001b[0m\u001b[0mpath_to_cta_table\u001b[0m\u001b[1;33m)\u001b[0m\u001b[1;33m\u001b[0m\u001b[1;33m\u001b[0m\u001b[0m\n\u001b[0;32m     21\u001b[0m     \u001b[0mactivity_df\u001b[0m \u001b[1;33m=\u001b[0m \u001b[0mpd\u001b[0m\u001b[1;33m.\u001b[0m\u001b[0mread_csv\u001b[0m\u001b[1;33m(\u001b[0m\u001b[0mpath_to_activity_table\u001b[0m\u001b[1;33m)\u001b[0m\u001b[1;33m\u001b[0m\u001b[1;33m\u001b[0m\u001b[0m\n",
      "\u001b[1;32mD:\\CMU Intern\\RoboTutor-Analysis\\helper.py\u001b[0m in \u001b[0;36mread_transac_table\u001b[1;34m(path_to_transac_table, full_df)\u001b[0m\n\u001b[0;32m    454\u001b[0m \u001b[1;33m\u001b[0m\u001b[0m\n\u001b[0;32m    455\u001b[0m \u001b[1;32mdef\u001b[0m \u001b[0mread_transac_table\u001b[0m\u001b[1;33m(\u001b[0m\u001b[0mpath_to_transac_table\u001b[0m\u001b[1;33m,\u001b[0m \u001b[0mfull_df\u001b[0m\u001b[1;33m=\u001b[0m\u001b[1;32mFalse\u001b[0m\u001b[1;33m)\u001b[0m\u001b[1;33m:\u001b[0m\u001b[1;33m\u001b[0m\u001b[1;33m\u001b[0m\u001b[0m\n\u001b[1;32m--> 456\u001b[1;33m     \u001b[0mtransac_df\u001b[0m \u001b[1;33m=\u001b[0m \u001b[0mpd\u001b[0m\u001b[1;33m.\u001b[0m\u001b[0mread_csv\u001b[0m\u001b[1;33m(\u001b[0m\u001b[0mpath_to_transac_table\u001b[0m\u001b[1;33m,\u001b[0m \u001b[0msep\u001b[0m\u001b[1;33m=\u001b[0m\u001b[1;34m'\\t'\u001b[0m\u001b[1;33m)\u001b[0m\u001b[1;33m\u001b[0m\u001b[1;33m\u001b[0m\u001b[0m\n\u001b[0m\u001b[0;32m    457\u001b[0m     \u001b[1;31m# Make Anon Student Id uniform data type\u001b[0m\u001b[1;33m\u001b[0m\u001b[1;33m\u001b[0m\u001b[1;33m\u001b[0m\u001b[0m\n\u001b[0;32m    458\u001b[0m     \u001b[0mtransac_df\u001b[0m \u001b[1;33m=\u001b[0m \u001b[0mtransac_df\u001b[0m\u001b[1;33m.\u001b[0m\u001b[0mastype\u001b[0m\u001b[1;33m(\u001b[0m\u001b[1;33m{\u001b[0m\u001b[1;34m\"Anon Student Id\"\u001b[0m\u001b[1;33m:\u001b[0m \u001b[0mstr\u001b[0m\u001b[1;33m}\u001b[0m\u001b[1;33m)\u001b[0m\u001b[1;33m\u001b[0m\u001b[1;33m\u001b[0m\u001b[0m\n",
      "\u001b[1;32m~\\Anaconda3\\lib\\site-packages\\pandas\\io\\parsers.py\u001b[0m in \u001b[0;36mparser_f\u001b[1;34m(filepath_or_buffer, sep, delimiter, header, names, index_col, usecols, squeeze, prefix, mangle_dupe_cols, dtype, engine, converters, true_values, false_values, skipinitialspace, skiprows, skipfooter, nrows, na_values, keep_default_na, na_filter, verbose, skip_blank_lines, parse_dates, infer_datetime_format, keep_date_col, date_parser, dayfirst, cache_dates, iterator, chunksize, compression, thousands, decimal, lineterminator, quotechar, quoting, doublequote, escapechar, comment, encoding, dialect, error_bad_lines, warn_bad_lines, delim_whitespace, low_memory, memory_map, float_precision)\u001b[0m\n\u001b[0;32m    683\u001b[0m         )\n\u001b[0;32m    684\u001b[0m \u001b[1;33m\u001b[0m\u001b[0m\n\u001b[1;32m--> 685\u001b[1;33m         \u001b[1;32mreturn\u001b[0m \u001b[0m_read\u001b[0m\u001b[1;33m(\u001b[0m\u001b[0mfilepath_or_buffer\u001b[0m\u001b[1;33m,\u001b[0m \u001b[0mkwds\u001b[0m\u001b[1;33m)\u001b[0m\u001b[1;33m\u001b[0m\u001b[1;33m\u001b[0m\u001b[0m\n\u001b[0m\u001b[0;32m    686\u001b[0m \u001b[1;33m\u001b[0m\u001b[0m\n\u001b[0;32m    687\u001b[0m     \u001b[0mparser_f\u001b[0m\u001b[1;33m.\u001b[0m\u001b[0m__name__\u001b[0m \u001b[1;33m=\u001b[0m \u001b[0mname\u001b[0m\u001b[1;33m\u001b[0m\u001b[1;33m\u001b[0m\u001b[0m\n",
      "\u001b[1;32m~\\Anaconda3\\lib\\site-packages\\pandas\\io\\parsers.py\u001b[0m in \u001b[0;36m_read\u001b[1;34m(filepath_or_buffer, kwds)\u001b[0m\n\u001b[0;32m    455\u001b[0m \u001b[1;33m\u001b[0m\u001b[0m\n\u001b[0;32m    456\u001b[0m     \u001b[1;31m# Create the parser.\u001b[0m\u001b[1;33m\u001b[0m\u001b[1;33m\u001b[0m\u001b[1;33m\u001b[0m\u001b[0m\n\u001b[1;32m--> 457\u001b[1;33m     \u001b[0mparser\u001b[0m \u001b[1;33m=\u001b[0m \u001b[0mTextFileReader\u001b[0m\u001b[1;33m(\u001b[0m\u001b[0mfp_or_buf\u001b[0m\u001b[1;33m,\u001b[0m \u001b[1;33m**\u001b[0m\u001b[0mkwds\u001b[0m\u001b[1;33m)\u001b[0m\u001b[1;33m\u001b[0m\u001b[1;33m\u001b[0m\u001b[0m\n\u001b[0m\u001b[0;32m    458\u001b[0m \u001b[1;33m\u001b[0m\u001b[0m\n\u001b[0;32m    459\u001b[0m     \u001b[1;32mif\u001b[0m \u001b[0mchunksize\u001b[0m \u001b[1;32mor\u001b[0m \u001b[0miterator\u001b[0m\u001b[1;33m:\u001b[0m\u001b[1;33m\u001b[0m\u001b[1;33m\u001b[0m\u001b[0m\n",
      "\u001b[1;32m~\\Anaconda3\\lib\\site-packages\\pandas\\io\\parsers.py\u001b[0m in \u001b[0;36m__init__\u001b[1;34m(self, f, engine, **kwds)\u001b[0m\n\u001b[0;32m    893\u001b[0m             \u001b[0mself\u001b[0m\u001b[1;33m.\u001b[0m\u001b[0moptions\u001b[0m\u001b[1;33m[\u001b[0m\u001b[1;34m\"has_index_names\"\u001b[0m\u001b[1;33m]\u001b[0m \u001b[1;33m=\u001b[0m \u001b[0mkwds\u001b[0m\u001b[1;33m[\u001b[0m\u001b[1;34m\"has_index_names\"\u001b[0m\u001b[1;33m]\u001b[0m\u001b[1;33m\u001b[0m\u001b[1;33m\u001b[0m\u001b[0m\n\u001b[0;32m    894\u001b[0m \u001b[1;33m\u001b[0m\u001b[0m\n\u001b[1;32m--> 895\u001b[1;33m         \u001b[0mself\u001b[0m\u001b[1;33m.\u001b[0m\u001b[0m_make_engine\u001b[0m\u001b[1;33m(\u001b[0m\u001b[0mself\u001b[0m\u001b[1;33m.\u001b[0m\u001b[0mengine\u001b[0m\u001b[1;33m)\u001b[0m\u001b[1;33m\u001b[0m\u001b[1;33m\u001b[0m\u001b[0m\n\u001b[0m\u001b[0;32m    896\u001b[0m \u001b[1;33m\u001b[0m\u001b[0m\n\u001b[0;32m    897\u001b[0m     \u001b[1;32mdef\u001b[0m \u001b[0mclose\u001b[0m\u001b[1;33m(\u001b[0m\u001b[0mself\u001b[0m\u001b[1;33m)\u001b[0m\u001b[1;33m:\u001b[0m\u001b[1;33m\u001b[0m\u001b[1;33m\u001b[0m\u001b[0m\n",
      "\u001b[1;32m~\\Anaconda3\\lib\\site-packages\\pandas\\io\\parsers.py\u001b[0m in \u001b[0;36m_make_engine\u001b[1;34m(self, engine)\u001b[0m\n\u001b[0;32m   1133\u001b[0m     \u001b[1;32mdef\u001b[0m \u001b[0m_make_engine\u001b[0m\u001b[1;33m(\u001b[0m\u001b[0mself\u001b[0m\u001b[1;33m,\u001b[0m \u001b[0mengine\u001b[0m\u001b[1;33m=\u001b[0m\u001b[1;34m\"c\"\u001b[0m\u001b[1;33m)\u001b[0m\u001b[1;33m:\u001b[0m\u001b[1;33m\u001b[0m\u001b[1;33m\u001b[0m\u001b[0m\n\u001b[0;32m   1134\u001b[0m         \u001b[1;32mif\u001b[0m \u001b[0mengine\u001b[0m \u001b[1;33m==\u001b[0m \u001b[1;34m\"c\"\u001b[0m\u001b[1;33m:\u001b[0m\u001b[1;33m\u001b[0m\u001b[1;33m\u001b[0m\u001b[0m\n\u001b[1;32m-> 1135\u001b[1;33m             \u001b[0mself\u001b[0m\u001b[1;33m.\u001b[0m\u001b[0m_engine\u001b[0m \u001b[1;33m=\u001b[0m \u001b[0mCParserWrapper\u001b[0m\u001b[1;33m(\u001b[0m\u001b[0mself\u001b[0m\u001b[1;33m.\u001b[0m\u001b[0mf\u001b[0m\u001b[1;33m,\u001b[0m \u001b[1;33m**\u001b[0m\u001b[0mself\u001b[0m\u001b[1;33m.\u001b[0m\u001b[0moptions\u001b[0m\u001b[1;33m)\u001b[0m\u001b[1;33m\u001b[0m\u001b[1;33m\u001b[0m\u001b[0m\n\u001b[0m\u001b[0;32m   1136\u001b[0m         \u001b[1;32melse\u001b[0m\u001b[1;33m:\u001b[0m\u001b[1;33m\u001b[0m\u001b[1;33m\u001b[0m\u001b[0m\n\u001b[0;32m   1137\u001b[0m             \u001b[1;32mif\u001b[0m \u001b[0mengine\u001b[0m \u001b[1;33m==\u001b[0m \u001b[1;34m\"python\"\u001b[0m\u001b[1;33m:\u001b[0m\u001b[1;33m\u001b[0m\u001b[1;33m\u001b[0m\u001b[0m\n",
      "\u001b[1;32m~\\Anaconda3\\lib\\site-packages\\pandas\\io\\parsers.py\u001b[0m in \u001b[0;36m__init__\u001b[1;34m(self, src, **kwds)\u001b[0m\n\u001b[0;32m   1915\u001b[0m         \u001b[0mkwds\u001b[0m\u001b[1;33m[\u001b[0m\u001b[1;34m\"usecols\"\u001b[0m\u001b[1;33m]\u001b[0m \u001b[1;33m=\u001b[0m \u001b[0mself\u001b[0m\u001b[1;33m.\u001b[0m\u001b[0musecols\u001b[0m\u001b[1;33m\u001b[0m\u001b[1;33m\u001b[0m\u001b[0m\n\u001b[0;32m   1916\u001b[0m \u001b[1;33m\u001b[0m\u001b[0m\n\u001b[1;32m-> 1917\u001b[1;33m         \u001b[0mself\u001b[0m\u001b[1;33m.\u001b[0m\u001b[0m_reader\u001b[0m \u001b[1;33m=\u001b[0m \u001b[0mparsers\u001b[0m\u001b[1;33m.\u001b[0m\u001b[0mTextReader\u001b[0m\u001b[1;33m(\u001b[0m\u001b[0msrc\u001b[0m\u001b[1;33m,\u001b[0m \u001b[1;33m**\u001b[0m\u001b[0mkwds\u001b[0m\u001b[1;33m)\u001b[0m\u001b[1;33m\u001b[0m\u001b[1;33m\u001b[0m\u001b[0m\n\u001b[0m\u001b[0;32m   1918\u001b[0m         \u001b[0mself\u001b[0m\u001b[1;33m.\u001b[0m\u001b[0munnamed_cols\u001b[0m \u001b[1;33m=\u001b[0m \u001b[0mself\u001b[0m\u001b[1;33m.\u001b[0m\u001b[0m_reader\u001b[0m\u001b[1;33m.\u001b[0m\u001b[0munnamed_cols\u001b[0m\u001b[1;33m\u001b[0m\u001b[1;33m\u001b[0m\u001b[0m\n\u001b[0;32m   1919\u001b[0m \u001b[1;33m\u001b[0m\u001b[0m\n",
      "\u001b[1;32mpandas\\_libs\\parsers.pyx\u001b[0m in \u001b[0;36mpandas._libs.parsers.TextReader.__cinit__\u001b[1;34m()\u001b[0m\n",
      "\u001b[1;32mpandas\\_libs\\parsers.pyx\u001b[0m in \u001b[0;36mpandas._libs.parsers.TextReader._setup_parser_source\u001b[1;34m()\u001b[0m\n",
      "\u001b[1;31mFileNotFoundError\u001b[0m: [Errno 2] File b'Data/transactions_village114.txt' does not exist: b'Data/transactions_village114.txt'"
     ]
    }
   ],
   "source": [
    "import sys\n",
    "sys.path.append('../')\n",
    "\n",
    "import pandas as pd\n",
    "import numpy as np\n",
    "import math\n",
    "from helper import sample_activity\n",
    "from student_simulator import train_on_obs\n",
    "import matplotlib.pyplot as plt\n",
    "\n",
    "activity_bkt, activity_to_kc_dict, skill_to_number_map, student_id_to_number_map = train_on_obs(1.0)"
   ]
  },
  {
   "cell_type": "code",
   "execution_count": null,
   "metadata": {},
   "outputs": [],
   "source": [
    "from helper import sample_activity\n",
    "hist = []\n",
    "gamma = 0.3\n",
    "literacy_mu = 1.5\n",
    "# width 3 for variance 0.112 width 1 for variance 0.014\n",
    "literacy_variance = 0.112\n",
    "literacy_sigma = literacy_variance**0.5\n",
    "\n",
    "literacy_row = 0\n",
    "literacy_col = 0\n",
    "alpha = 30\n",
    "beta = 1\n",
    "prev_mu = 0\n",
    "change_variance = False\n",
    "\n",
    "correct_threshold = 0.5\n",
    "min_threshold = 0.65\n",
    "\n",
    "student_id = \"CQCKBY_105\"\n",
    "placement = None\n",
    "    \n",
    "for i in range(15):\n",
    "    literacy_sigma = literacy_variance**0.5\n",
    "    new_row, new_col, activity = sample_activity(literacy_mu, literacy_sigma, literacy_matrix, literacy_row, lit_nan_idxs)\n",
    "    \n",
    "    literacy_row = new_row\n",
    "    literacy_col = new_col\n",
    "    \n",
    "    skills = []\n",
    "    skill = []\n",
    "    for kc in activity_to_kc_dict[activity]:\n",
    "        skill.append(skill_to_number_map[kc])\n",
    "\n",
    "    skills.append(skill)\n",
    "    student_ids = [student_id_to_number_map[student_id]] * len(skills)\n",
    "    \n",
    "    corrects, min_corrects = activity_bkt.predict_percent_correct(student_ids, skills)\n",
    "    correct = corrects[0]\n",
    "    min_correct = min_corrects[0]\n",
    "    \n",
    "    hist.append(correct - correct_threshold)\n",
    "    score = 0.0\n",
    "    for i in range(len(hist)):\n",
    "        score += (gamma**(len(hist) - 1 - i)) * hist[i] \n",
    "    score = score/min(len(hist), 5)\n",
    "    prev_mu = literacy_mu\n",
    "    literacy_mu += alpha * score\n",
    "    deviation = math.floor(literacy_mu) - new_col\n",
    "    print(correct)\n",
    "    if correct < min_threshold:\n",
    "        placement = math.floor(prev_mu)\n",
    "        print(\"PLACED AT: \", placement)\n",
    "        break\n",
    "    if change_variance == True and deviation > 0:\n",
    "        if correct < correct_threshold:\n",
    "            literacy_variance += beta * 0.04\n",
    "    elif change_variance == True and deviation < 0:\n",
    "        if correct >= correct_threshold:\n",
    "            # inc variance\n",
    "            literacy_variance += beta * 0.04\n",
    "\n",
    "    print(\"MU: \", math.floor(literacy_mu*100)/100, \"VARIANCE: \", math.floor(literacy_variance*100)/100,\"DEVIATION: \", deviation, \"%correct: \", correct)\n",
    "        \n",
    "    if prev_mu > literacy_mu:\n",
    "        placement = math.floor(prev_mu)\n",
    "        print(\"PLACED AT: \", placement)\n",
    "        break\n",
    "\n",
    "if placement is None:\n",
    "    placement = math.floor(prev_mu)\n",
    "    print(\"PLACED AT: \", placement)"
   ]
  },
  {
   "cell_type": "code",
   "execution_count": null,
   "metadata": {},
   "outputs": [],
   "source": [
    "placement"
   ]
  },
  {
   "cell_type": "code",
   "execution_count": null,
   "metadata": {},
   "outputs": [],
   "source": [
    "student_id = \"VPRQEF_101\"\n",
    "student_id = student_id_to_number_map[student_id]\n",
    "\n",
    "know = activity_bkt.know[student_id]\n",
    "learn = activity_bkt.learn[student_id]\n",
    "guess = activity_bkt.guess[student_id]\n",
    "slip = activity_bkt.slip[student_id]\n",
    "# print(know.shape, slip.shape, guess.shape, learn.shape)\n",
    "avg_know = np.mean(know)\n",
    "print(avg_know)"
   ]
  },
  {
   "cell_type": "code",
   "execution_count": 2,
   "metadata": {},
   "outputs": [],
   "source": [
    "import numpy as np\n",
    "from helper import read_cta_table, get_kc_list_from_cta_table, init_kc_to_tutorID_dict, get_cta_tutor_ids, init_tutorID_to_kc_dict\n",
    "\n",
    "cta_df = read_cta_table(\"../Data/CTA.xlsx\")\n",
    "kc_list = get_kc_list_from_cta_table(cta_df)\n",
    "u = len(kc_list)\n",
    "kc_to_tutorID_dict = init_kc_to_tutorID_dict(kc_list)\n",
    "cta_tutor_ids, kc_to_tutorID_dict = get_cta_tutor_ids(kc_to_tutorID_dict, kc_list, cta_df)\n",
    "tutorID_to_kc_dict = init_tutorID_to_kc_dict(kc_to_tutorID_dict)\n"
   ]
  },
  {
   "cell_type": "code",
   "execution_count": 132,
   "metadata": {},
   "outputs": [
    {
     "name": "stdout",
     "output_type": "stream",
     "text": [
      "[670, 211, 15, 171, 316, 26, 401, 60, 34, 27, 245, 135, 100, 6, 12, 29, 15, 2]\n"
     ]
    }
   ],
   "source": [
    "counts = [0] * 18\n",
    "for activity in cta_tutor_ids:\n",
    "    skills = tutorID_to_kc_dict[activity]\n",
    "    for skill in skills:\n",
    "        counts[skill_to_number_map[skill]] += 1\n",
    "print(counts)"
   ]
  },
  {
   "cell_type": "code",
   "execution_count": 133,
   "metadata": {},
   "outputs": [
    {
     "name": "stdout",
     "output_type": "stream",
     "text": [
      "0.9884057842869747 670\n",
      "1.0 401\n",
      "0.3461538916846489 316\n",
      "0.6627780274577896 245\n",
      "0.9999606427575287 211\n",
      "0.9999998925308287 171\n",
      "0.9999999413255728 135\n",
      "0.6966429528160053 100\n",
      "0.3461538461557615 60\n",
      "0.3633844803930379 34\n",
      "0.1 29\n",
      "0.3767356881863124 27\n",
      "1.0 26\n",
      "0.3539860828043025 15\n",
      "0.1 15\n",
      "0.1 12\n",
      "0.1 6\n",
      "0.1 2\n"
     ]
    }
   ],
   "source": [
    "print(activity_bkt.know[0].tolist()[0], counts[0])\n",
    "print(activity_bkt.know[0].tolist()[6], counts[6])\n",
    "print(activity_bkt.know[0].tolist()[4], counts[4])\n",
    "print(activity_bkt.know[0].tolist()[10], counts[10])\n",
    "print(activity_bkt.know[0].tolist()[1], counts[1])\n",
    "print(activity_bkt.know[0].tolist()[3], counts[3])\n",
    "print(activity_bkt.know[0].tolist()[11], counts[11])\n",
    "print(activity_bkt.know[0].tolist()[12], counts[12])\n",
    "print(activity_bkt.know[0].tolist()[7], counts[7])\n",
    "print(activity_bkt.know[0].tolist()[8], counts[8])\n",
    "print(activity_bkt.know[0].tolist()[15], counts[15])\n",
    "print(activity_bkt.know[0].tolist()[9], counts[9])\n",
    "print(activity_bkt.know[0].tolist()[5], counts[5])\n",
    "print(activity_bkt.know[0].tolist()[2], counts[2])\n",
    "print(activity_bkt.know[0].tolist()[16], counts[16])\n",
    "print(activity_bkt.know[0].tolist()[14], counts[14])\n",
    "print(activity_bkt.know[0].tolist()[13], counts[13])\n",
    "print(activity_bkt.know[0].tolist()[17], counts[17])"
   ]
  },
  {
   "cell_type": "code",
   "execution_count": 134,
   "metadata": {},
   "outputs": [
    {
     "name": "stdout",
     "output_type": "stream",
     "text": [
      "skill  0 :  964\n",
      "skill  1 :  266\n",
      "skill  2 :  26\n",
      "skill  3 :  248\n",
      "skill  4 :  316\n",
      "skill  5 :  156\n",
      "skill  6 :  463\n",
      "skill  7 :  60\n",
      "skill  8 :  34\n",
      "skill  9 :  33\n",
      "skill  10 :  292\n",
      "skill  11 :  163\n",
      "skill  12 :  101\n",
      "skill  13 :  11\n",
      "skill  14 :  19\n",
      "skill  15 :  31\n",
      "skill  16 :  16\n",
      "skill  17 :  2\n"
     ]
    }
   ],
   "source": [
    "# 17, 16, 15, 14, 10, 9, 8, 7, 2\n",
    "for i in range(u):\n",
    "    print(\"skill \", i, \": \", len(kc_to_tutorID_dict[kc_list[i]]))"
   ]
  },
  {
   "cell_type": "code",
   "execution_count": 140,
   "metadata": {},
   "outputs": [
    {
     "data": {
      "text/plain": [
       "10"
      ]
     },
     "execution_count": 140,
     "metadata": {},
     "output_type": "execute_result"
    }
   ],
   "source": []
  },
  {
   "cell_type": "code",
   "execution_count": 155,
   "metadata": {},
   "outputs": [
    {
     "name": "stdout",
     "output_type": "stream",
     "text": [
      "7\n",
      "write.ltr.lc:all.asc.A..Z.11\n",
      "['Writing Letters']\n",
      "[7]\n",
      "True\n"
     ]
    }
   ],
   "source": [
    "import random\n",
    "skill = np.random.choice(u)\n",
    "print(skill)\n",
    "activity = random.choice(kc_to_tutorID_dict[kc_list[skill]])\n",
    "print(activity)\n",
    "print(tutorID_to_kc_dict[activity])\n",
    "res = []\n",
    "for kc in tutorID_to_kc_dict[activity]:\n",
    "    res.append(skill_to_number_map[kc])\n",
    "print(res)\n",
    "print(skill in res)\n"
   ]
  },
  {
   "cell_type": "code",
   "execution_count": 127,
   "metadata": {},
   "outputs": [
    {
     "data": {
      "text/plain": [
       "642"
      ]
     },
     "execution_count": 127,
     "metadata": {},
     "output_type": "execute_result"
    }
   ],
   "source": [
    "cta_tutor_ids.tolist().index(activity)"
   ]
  },
  {
   "cell_type": "code",
   "execution_count": 128,
   "metadata": {},
   "outputs": [
    {
     "data": {
      "text/plain": [
       "'akira:nonwrd.8.noShow.3'"
      ]
     },
     "execution_count": 128,
     "metadata": {},
     "output_type": "execute_result"
    }
   ],
   "source": [
    "cta_tutor_ids[642]"
   ]
  },
  {
   "cell_type": "code",
   "execution_count": 129,
   "metadata": {},
   "outputs": [
    {
     "data": {
      "text/plain": [
       "array([0.98840578, 0.99996064, 0.35398608, 0.99999989, 0.34615389,\n",
       "       1.        , 1.        , 0.34615385, 0.36338448, 0.37673569,\n",
       "       0.66277803, 0.99999994, 0.69664295, 0.1       , 0.1       ,\n",
       "       0.1       , 0.1       , 0.1       ])"
      ]
     },
     "execution_count": 129,
     "metadata": {},
     "output_type": "execute_result"
    }
   ],
   "source": [
    "activity_bkt.know[0]"
   ]
  },
  {
   "cell_type": "code",
   "execution_count": 150,
   "metadata": {},
   "outputs": [
    {
     "data": {
      "text/plain": [
       "'Invented Word'"
      ]
     },
     "execution_count": 150,
     "metadata": {},
     "output_type": "execute_result"
    }
   ],
   "source": [
    "skill"
   ]
  },
  {
   "cell_type": "code",
   "execution_count": null,
   "metadata": {},
   "outputs": [],
   "source": []
  }
 ],
 "metadata": {
  "kernelspec": {
   "display_name": "Python 3",
   "language": "python",
   "name": "python3"
  },
  "language_info": {
   "codemirror_mode": {
    "name": "ipython",
    "version": 3
   },
   "file_extension": ".py",
   "mimetype": "text/x-python",
   "name": "python",
   "nbconvert_exporter": "python",
   "pygments_lexer": "ipython3",
   "version": "3.7.1"
  }
 },
 "nbformat": 4,
 "nbformat_minor": 4
}
