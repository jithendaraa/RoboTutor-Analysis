{
 "cells": [
  {
   "cell_type": "code",
   "execution_count": 32,
   "metadata": {},
   "outputs": [
    {
     "ename": "FileNotFoundError",
     "evalue": "[WinError 2] The system cannot find the file specified: 'Data'",
     "output_type": "error",
     "traceback": [
      "\u001b[1;31m---------------------------------------------------------------------------\u001b[0m",
      "\u001b[1;31mFileNotFoundError\u001b[0m                         Traceback (most recent call last)",
      "\u001b[1;32m<ipython-input-32-71d05af69053>\u001b[0m in \u001b[0;36m<module>\u001b[1;34m\u001b[0m\n\u001b[0;32m     32\u001b[0m \u001b[1;32mimport\u001b[0m \u001b[0mtime\u001b[0m\u001b[1;33m\u001b[0m\u001b[1;33m\u001b[0m\u001b[0m\n\u001b[0;32m     33\u001b[0m \u001b[1;33m\u001b[0m\u001b[0m\n\u001b[1;32m---> 34\u001b[1;33m \u001b[0mos\u001b[0m\u001b[1;33m.\u001b[0m\u001b[0mchdir\u001b[0m\u001b[1;33m(\u001b[0m\u001b[1;34m'Data'\u001b[0m\u001b[1;33m)\u001b[0m\u001b[1;33m\u001b[0m\u001b[1;33m\u001b[0m\u001b[0m\n\u001b[0m\u001b[0;32m     35\u001b[0m \u001b[0mget_ipython\u001b[0m\u001b[1;33m(\u001b[0m\u001b[1;33m)\u001b[0m\u001b[1;33m.\u001b[0m\u001b[0msystem\u001b[0m\u001b[1;33m(\u001b[0m\u001b[1;34m'ls'\u001b[0m\u001b[1;33m)\u001b[0m\u001b[1;33m\u001b[0m\u001b[1;33m\u001b[0m\u001b[0m\n",
      "\u001b[1;31mFileNotFoundError\u001b[0m: [WinError 2] The system cannot find the file specified: 'Data'"
     ]
    }
   ],
   "source": [
    "# Data handling and processing\n",
    "import pandas as pd\n",
    "import numpy as np\n",
    "import math\n",
    "import torch\n",
    "import torch.nn as nn\n",
    "import torch.nn.functional as F\n",
    "import torch.optim as optim\n",
    "\n",
    "# Sklearn imports\n",
    "import sklearn\n",
    "from sklearn import preprocessing\n",
    "from sklearn.model_selection import train_test_split\n",
    "from sklearn.preprocessing import OrdinalEncoder\n",
    "from sklearn.feature_selection import RFE\n",
    "from sklearn import metrics\n",
    "from sklearn.metrics import accuracy_score\n",
    "\n",
    "# Model imports\n",
    "from sklearn.linear_model import LogisticRegression\n",
    "from sklearn.linear_model import LogisticRegression\n",
    "from sklearn.neighbors import KNeighborsClassifier\n",
    "from sklearn import svm\n",
    "\n",
    "# Plotting\n",
    "import matplotlib.pyplot as plt\n",
    "import seaborn as sns\n",
    "\n",
    "# File mgmt\n",
    "import os\n",
    "\n",
    "# misc\n",
    "import time\n",
    "\n",
    "os.chdir('Data')\n",
    "!ls"
   ]
  },
  {
   "cell_type": "code",
   "execution_count": 7,
   "metadata": {},
   "outputs": [
    {
     "name": "stderr",
     "output_type": "stream",
     "text": [
      "C:\\Users\\jithe\\Anaconda3\\lib\\site-packages\\IPython\\core\\interactiveshell.py:3063: DtypeWarning: Columns (3,7,37,49) have mixed types. Specify dtype option on import or set low_memory=False.\n",
      "  interactivity=interactivity, compiler=compiler, result=result)\n"
     ]
    }
   ],
   "source": [
    "path = 'Transactions_Village114/ds3170_tx_All_Data_5208_2019_1211_082948.txt'\n",
    "df = pd.read_csv(path, sep=\"\\t\")\n",
    "cols = ['Anon Student Id', 'Session Id', 'Duration (sec)', 'Level (Tutor Name)', 'Level (Tutor)', 'Problem Name', 'Problem View','Step Name', 'Attempt At Step','Is Last Attempt','Outcome', 'Input','CF (File)','CF (Matrix)','CF (Matrix Level)', 'CF (Matrix Order)', 'CF (Total Activity Problems)']\n",
    "df = df[cols]\n",
    "bubble_pop_df = df[df['Level (Tutor Name)'] == 'bubble_pop']\n",
    "bpop_math_df = bubble_pop_df[bubble_pop_df['CF (Matrix)'] == 'math'] #6172\n",
    "\n",
    "# X and y -> inputs and outputs for the classification model\n",
    "cols = ['Duration (sec)', 'Level (Tutor)', 'Attempt At Step', 'CF (Matrix Level)', 'CF (Matrix Order)', 'Outcome']\n",
    "X = bpop_math_df[cols]\n",
    "y = X[['Outcome']]\n",
    "X = X.drop(['Outcome'], axis=1)"
   ]
  },
  {
   "cell_type": "markdown",
   "metadata": {},
   "source": [
    "## Helpful functions"
   ]
  },
  {
   "cell_type": "code",
   "execution_count": 203,
   "metadata": {},
   "outputs": [],
   "source": [
    "# Clean duration (sec) columns: Convert all values to float, if not able to convert set value in that row as duration_mean\n",
    "def clean_duration_col_with_mean(X):\n",
    "    strings = 0\n",
    "    ints = 0\n",
    "    floats = 0\n",
    "    other = 0\n",
    "    cnt = 0\n",
    "    sums = 0\n",
    "    posn = []\n",
    "    X_duration_arr = X['Duration (sec)'].array\n",
    "\n",
    "    for i in range(len(X_duration_arr)):\n",
    "        if isinstance(X_duration_arr[i], int):\n",
    "            ints += 1\n",
    "        elif isinstance(X_duration_arr[i], str):\n",
    "            strings += 1\n",
    "            try:\n",
    "                X_duration_arr[i] = float(X_duration_arr[i])\n",
    "            except ValueError:\n",
    "#                 print(\"Cant convert to a float\", X_duration_arr[i], \"Position: \",i)\n",
    "                posn.append(i)\n",
    "        elif isinstance(X_duration_arr[i], float):\n",
    "            floats += 1\n",
    "    \n",
    "        if isinstance(X_duration_arr[i], float):\n",
    "            sums += X_duration_arr[i]\n",
    "            cnt += 1\n",
    "\n",
    "    duration_mean = sums/cnt\n",
    "    for i in range(len(posn)):\n",
    "        X_duration_arr[posn[i]] = duration_mean\n",
    "\n",
    "    for i in range(len(X_duration_arr)):\n",
    "        col = bpop_math_df.columns.get_loc('Duration (sec)')\n",
    "        val = X_duration_arr[i]\n",
    "        X.iloc[i, col] = val\n",
    "    \n",
    "    return X\n",
    "\n",
    "# Ordinal encodes a column\n",
    "def ordinal_encode_col(X, colname):\n",
    "    enc = OrdinalEncoder()\n",
    "    level_tutor = X[colname].tolist()\n",
    "    tutor_level_2dlist = []\n",
    "    for i in range(len(level_tutor)):\n",
    "        tutor_level_2dlist.append([level_tutor[i]])\n",
    "\n",
    "    enc.fit(tutor_level_2dlist)\n",
    "\n",
    "    col = X.columns.get_loc(colname)\n",
    "    num_entries = X.count()[colname]\n",
    "    for i in range(num_entries):\n",
    "        val = X.iloc[i, col]\n",
    "        val = enc.transform([[val]])[0][0]\n",
    "        X.iloc[i, col] = val\n",
    "    \n",
    "    return X\n",
    "\n",
    "def rfe(X_train, y_train, apply_rfe):\n",
    "    if apply_rfe == False:\n",
    "        return\n",
    "    data_final_vars=X_train.columns.values.tolist()\n",
    "    y_=['y']\n",
    "    X=[i for i in data_final_vars if i not in y_]\n",
    "    logreg = LogisticRegression()\n",
    "    rfe = RFE(logreg, 20)\n",
    "    rfe = rfe.fit(X_train, y_train)\n",
    "#     print(\"RFE Support: \",rfe.support_)\n",
    "#     print(\"RFE Ranking: \", rfe.ranking_)\n",
    "\n",
    "# incorrect -> 0, correct -> 1\n",
    "# set_zero = \"INCORRECT\" means incorrect will be set to 0 and other value as 1\n",
    "def encode_outputs(y, colname, set_zero):\n",
    "    col = y.columns.get_loc(colname)\n",
    "    for i in range(y.count()[colname]): \n",
    "        val = y.iloc[i, col]\n",
    "        if val == set_zero:\n",
    "            val = 0\n",
    "        else: \n",
    "            val = 1\n",
    "        y.iloc[i, col] = val\n",
    "    \n",
    "    return y\n",
    "\n",
    "def encode_categorical_cols(X, encoder, col):\n",
    "\n",
    "#   Ordinally encode categorical columns\n",
    "    if encoder == \"ordinal\":\n",
    "        for i in range(len(col)):\n",
    "            X = ordinal_encode_col(X, col[i])\n",
    "    \n",
    "    return X\n",
    "\n",
    "def normalize_data(X, norm):\n",
    "    if norm == 'l1':\n",
    "        X = sklearn.preprocessing.normalize(X, norm='l1', axis=1, copy=True, return_norm=False)\n",
    "        X = pd.DataFrame(data=X, columns=cols[:len(cols)-1])\n",
    "    \n",
    "    elif norm == 'l2':\n",
    "        X = sklearn.preprocessing.normalize(X, norm='l2', axis=1, copy=True, return_norm=False)\n",
    "        X = pd.DataFrame(data=X, columns=cols[:len(cols)-1])\n",
    "    \n",
    "    return X\n",
    "\n",
    "\n",
    "def run_logistic_regression(X, y, test_split, apply_rfe):\n",
    "        \n",
    "    X_train, X_test, y_train, y_test = train_test_split(X, y, test_size=test_split)\n",
    "    rfe(X_train, y_train, apply_rfe)\n",
    "    logreg = LogisticRegression()\n",
    "    logreg.fit(X_train, y_train)\n",
    "    performance = 100 * logreg.score(X_test, y_test)\n",
    "#     print('Accuracy of logistic regression classifier on test set: {:.2f}'.format(performance))\n",
    "    return performance\n",
    "    \n",
    "def run_k_neighbors_classifier(X, y, test_split, apply_rfe, neighbors):\n",
    "        \n",
    "    X_train, X_test, y_train, y_test = train_test_split(X, y, test_size=test_split)\n",
    "    rfe(X_train, y_train, apply_rfe)       \n",
    "    neigh = KNeighborsClassifier(n_neighbors=neighbors)\n",
    "    neigh.fit(X_train, y_train)\n",
    "    performance = 100 * neigh.score(X_test, y_test)\n",
    "#     print('Accuracy of logistic regression classifier on test set: {:.2f}'.format(performance))\n",
    "    return performance\n",
    "\n",
    "def run_svm(X, y, test_split, apply_rfe, svc_kernel):\n",
    "    \n",
    "    X_train, X_test, y_train, y_test = train_test_split(X, y, test_size=test_split)\n",
    "    rfe(X_train, y_train, apply_rfe)   \n",
    "    svm_model = svm.SVC(kernel=svc_kernel)\n",
    "    print(\"CREATE MODEL\")\n",
    "    svm_model.fit(X_train, y_train)\n",
    "    print(\"FIT\")\n",
    "    #Predict the response for test dataset\n",
    "    y_pred = svm_model.predict(X_test)\n",
    "    perf = 100 * metrics.accuracy_score(y_test, y_pred)\n",
    "    print(\"Accuracy:\",perf)\n",
    "    return perf\n",
    "\n",
    "def run_nn(X, y, test_split, lr, epochs, layer_sizes, n):\n",
    "    \n",
    "    X_train, X_test, y_train, y_test = train_test_split(X, y, test_size=0.2)\n",
    "    \n",
    "    # Make everything as float type\n",
    "\n",
    "    X_train['Duration (sec)'] = X_train['Duration (sec)'].astype(float)\n",
    "    X_train['Level (Tutor)'] = X_train['Level (Tutor)'].astype(float)\n",
    "    X_train['CF (Matrix Level)'] = X_train['CF (Matrix Level)'].astype(float)\n",
    "    X_train['CF (Matrix Order)'] = X_train['CF (Matrix Order)'].astype(float)\n",
    "\n",
    "    X_test['Duration (sec)'] = X_test['Duration (sec)'].astype(float)\n",
    "    X_test['Level (Tutor)'] = X_test['Level (Tutor)'].astype(float)\n",
    "    X_test['CF (Matrix Level)'] = X_test['CF (Matrix Level)'].astype(float)\n",
    "    X_test['CF (Matrix Order)'] = X_test['CF (Matrix Order)'].astype(float)\n",
    "\n",
    "    # Convert to torch tensors\n",
    "\n",
    "    X_train_tensor = torch.tensor(X_train.values).float()\n",
    "    X_test_tensor = torch.tensor(X_test.values).float()\n",
    "    y_train_tensor = torch.tensor(y_train).float()\n",
    "    y_test_tensor = torch.tensor(y_test).float()\n",
    "    \n",
    "    \n",
    "    # Model class\n",
    "    class StudentNet(nn.Module):\n",
    "    \n",
    "        def __init__(self, input_size, layer_sizes, num_classes, n):\n",
    "            super(StudentNet, self).__init__()\n",
    "            \n",
    "            if len(layer_sizes) == 0:\n",
    "                layer_sizes = [30]\n",
    "            self.layer_sizes = layer_sizes\n",
    "            \n",
    "            self.fc1 = nn.Linear(input_size, n)\n",
    "            self.fc2 = nn.Linear(n, n)\n",
    "            self.fc2a = nn.Linear(n, n)\n",
    "            self.fc3 = nn.Linear(n, n)\n",
    "            self.fc4 = nn.Linear(n, num_classes)\n",
    "            \n",
    "#             self.fc = []\n",
    "#             self.fc.append(nn.Linear(input_size, layer_sizes[0]))\n",
    "#             for i in range(len(layer_sizes) - 1):\n",
    "#                 self.fc.append(nn.Linear(layer_sizes[i], layer_sizes[i+1]))\n",
    "#             self.fc.append(nn.Linear(layer_sizes[len(layer_sizes) - 1], num_classes))\n",
    "    \n",
    "        def forward(self, x):\n",
    "            x = F.relu(self.fc1(x))\n",
    "            x = F.relu(self.fc2(x))\n",
    "            x = F.relu(self.fc2a(x))\n",
    "            x = F.relu(self.fc3(x))\n",
    "            x = self.fc4(x)\n",
    "#             for i in range(len(self.layer_sizes) - 1):\n",
    "#                 x = F.relu(self.fc[i])\n",
    "#             x = self.fc[len(self.layer_sizes) - 1](x)\n",
    "            return x\n",
    "    \n",
    "        def predict(self,x):\n",
    "            pred = F.softmax(self.forward(x))\n",
    "            ans = []\n",
    "            #Pick the class with maximum proba\n",
    "            for t in pred:\n",
    "                if t[0]>t[1]:\n",
    "                    ans.append(0)\n",
    "                else:\n",
    "                    ans.append(1)\n",
    "            return torch.tensor(ans)\n",
    "    \n",
    "    model = StudentNet(5, layer_sizes, 2, n)\n",
    "    print(model)\n",
    "    \n",
    "    optimizer = optim.Adam(model.parameters(), lr=lr)\n",
    "    loss_function = nn.CrossEntropyLoss()\n",
    "    test_losses = []\n",
    "    train_losses = []\n",
    "    \n",
    "    for i in range(epochs):\n",
    "        #Predict the output for Given input\n",
    "        y_pred = model.forward(X_train_tensor)\n",
    "        loss = loss_function(y_pred, y_train_tensor.long())\n",
    "        \n",
    "        optimizer.zero_grad()\n",
    "        loss.backward()\n",
    "        optimizer.step()\n",
    "        \n",
    "        if i%(epochs/50) == 0:\n",
    "            y_test_pred = model.forward(X_test_tensor)\n",
    "            test_loss = loss_function(y_test_pred, y_test_tensor.long())\n",
    "            test_losses.append(test_loss)\n",
    "            train_losses.append(loss)\n",
    "        \n",
    "        if i%(epochs/5) == 0:\n",
    "            print(\"Loss: \", loss.item())\n",
    "        \n",
    "    x_axis = [100*i for i in range(len(test_losses))]\n",
    "    perf = 100 * accuracy_score(model.predict(X_test_tensor),y_test_tensor)\n",
    "    print(\"ACCURACY: \", perf, \"%\")\n",
    "    plt.plot(x_axis, train_losses, color=\"black\", label=\"train loss\")\n",
    "    plt.plot(x_axis, test_losses, color=\"red\", label=\"test loss\")\n",
    "    plt.title(\"Loss vs epochs\")\n",
    "    plt.legend()\n",
    "    plt.show()\n",
    "    return perf\n",
    "    \n",
    "\n",
    "def run_algo(algo, X, y, clean_method, encoder, norm, test_split, apply_rfe, categorical_cols, neighbors, svc_kernel, lr, epochs, layer_sizes, n):\n",
    "    \n",
    "    if clean_method == \"mean\":\n",
    "        X = clean_duration_col_with_mean(X)\n",
    "    \n",
    "    X = encode_categorical_cols(X, encoder, categorical_cols)\n",
    "    X = normalize_data(X, norm)\n",
    "    y = encode_outputs(y, 'Outcome', 'INCORRECT').values.ravel()\n",
    "    perf = 0\n",
    "    if algo == \"logistic_regression\":\n",
    "        perf = run_logistic_regression(X, y, test_split, apply_rfe)\n",
    "    \n",
    "    elif algo == \"k_neighbors_classifier\":\n",
    "        perf = run_k_neighbors_classifier(X, y, test_split, apply_rfe, neighbors)\n",
    "    \n",
    "    elif algo == \"svm\":\n",
    "        perf = run_svm(X, y, test_split, apply_rfe, svc_kernel)\n",
    "        \n",
    "    elif algo == \"nn\":\n",
    "        perf = run_nn(X, y, test_split, lr, epochs, layer_sizes, n)\n",
    "      \n",
    "    return perf\n",
    "    "
   ]
  },
  {
   "cell_type": "code",
   "execution_count": 205,
   "metadata": {
    "scrolled": false
   },
   "outputs": [
    {
     "name": "stderr",
     "output_type": "stream",
     "text": [
      "C:\\Users\\jithe\\Anaconda3\\lib\\site-packages\\ipykernel_launcher.py:146: SettingWithCopyWarning: \n",
      "A value is trying to be set on a copy of a slice from a DataFrame.\n",
      "Try using .loc[row_indexer,col_indexer] = value instead\n",
      "\n",
      "See the caveats in the documentation: http://pandas.pydata.org/pandas-docs/stable/user_guide/indexing.html#returning-a-view-versus-a-copy\n",
      "C:\\Users\\jithe\\Anaconda3\\lib\\site-packages\\ipykernel_launcher.py:147: SettingWithCopyWarning: \n",
      "A value is trying to be set on a copy of a slice from a DataFrame.\n",
      "Try using .loc[row_indexer,col_indexer] = value instead\n",
      "\n",
      "See the caveats in the documentation: http://pandas.pydata.org/pandas-docs/stable/user_guide/indexing.html#returning-a-view-versus-a-copy\n",
      "C:\\Users\\jithe\\Anaconda3\\lib\\site-packages\\ipykernel_launcher.py:148: SettingWithCopyWarning: \n",
      "A value is trying to be set on a copy of a slice from a DataFrame.\n",
      "Try using .loc[row_indexer,col_indexer] = value instead\n",
      "\n",
      "See the caveats in the documentation: http://pandas.pydata.org/pandas-docs/stable/user_guide/indexing.html#returning-a-view-versus-a-copy\n",
      "C:\\Users\\jithe\\Anaconda3\\lib\\site-packages\\ipykernel_launcher.py:149: SettingWithCopyWarning: \n",
      "A value is trying to be set on a copy of a slice from a DataFrame.\n",
      "Try using .loc[row_indexer,col_indexer] = value instead\n",
      "\n",
      "See the caveats in the documentation: http://pandas.pydata.org/pandas-docs/stable/user_guide/indexing.html#returning-a-view-versus-a-copy\n",
      "C:\\Users\\jithe\\Anaconda3\\lib\\site-packages\\ipykernel_launcher.py:151: SettingWithCopyWarning: \n",
      "A value is trying to be set on a copy of a slice from a DataFrame.\n",
      "Try using .loc[row_indexer,col_indexer] = value instead\n",
      "\n",
      "See the caveats in the documentation: http://pandas.pydata.org/pandas-docs/stable/user_guide/indexing.html#returning-a-view-versus-a-copy\n",
      "C:\\Users\\jithe\\Anaconda3\\lib\\site-packages\\ipykernel_launcher.py:152: SettingWithCopyWarning: \n",
      "A value is trying to be set on a copy of a slice from a DataFrame.\n",
      "Try using .loc[row_indexer,col_indexer] = value instead\n",
      "\n",
      "See the caveats in the documentation: http://pandas.pydata.org/pandas-docs/stable/user_guide/indexing.html#returning-a-view-versus-a-copy\n",
      "C:\\Users\\jithe\\Anaconda3\\lib\\site-packages\\ipykernel_launcher.py:153: SettingWithCopyWarning: \n",
      "A value is trying to be set on a copy of a slice from a DataFrame.\n",
      "Try using .loc[row_indexer,col_indexer] = value instead\n",
      "\n",
      "See the caveats in the documentation: http://pandas.pydata.org/pandas-docs/stable/user_guide/indexing.html#returning-a-view-versus-a-copy\n",
      "C:\\Users\\jithe\\Anaconda3\\lib\\site-packages\\ipykernel_launcher.py:154: SettingWithCopyWarning: \n",
      "A value is trying to be set on a copy of a slice from a DataFrame.\n",
      "Try using .loc[row_indexer,col_indexer] = value instead\n",
      "\n",
      "See the caveats in the documentation: http://pandas.pydata.org/pandas-docs/stable/user_guide/indexing.html#returning-a-view-versus-a-copy\n"
     ]
    },
    {
     "name": "stdout",
     "output_type": "stream",
     "text": [
      "StudentNet(\n",
      "  (fc1): Linear(in_features=5, out_features=10, bias=True)\n",
      "  (fc2): Linear(in_features=10, out_features=10, bias=True)\n",
      "  (fc2a): Linear(in_features=10, out_features=10, bias=True)\n",
      "  (fc3): Linear(in_features=10, out_features=10, bias=True)\n",
      "  (fc4): Linear(in_features=10, out_features=2, bias=True)\n",
      ")\n",
      "Loss:  0.7925734519958496\n",
      "Loss:  0.5906215906143188\n",
      "Loss:  0.5887129902839661\n",
      "Loss:  0.5885834693908691\n",
      "Loss:  0.5883650183677673\n"
     ]
    },
    {
     "name": "stderr",
     "output_type": "stream",
     "text": [
      "C:\\Users\\jithe\\Anaconda3\\lib\\site-packages\\ipykernel_launcher.py:198: UserWarning: Implicit dimension choice for softmax has been deprecated. Change the call to include dim=X as an argument.\n"
     ]
    },
    {
     "name": "stdout",
     "output_type": "stream",
     "text": [
      "ACCURACY:  69.63562753036437 %\n"
     ]
    },
    {
     "data": {
      "image/png": "[encoded data removed]",
      "text/plain": [
       "<Figure size 432x288 with 1 Axes>"
      ]
     },
     "metadata": {
      "needs_background": "light"
     },
     "output_type": "display_data"
    },
    {
     "name": "stdout",
     "output_type": "stream",
     "text": [
      "Avg. performance over  1 runs:  69.63562753036437\n",
      "69.63562753036437 %( 69.63562753036437 - 69.63562753036437 )\n"
     ]
    }
   ],
   "source": [
    "# mean median or mode (#FIXME: only supports mean for now)\n",
    "clean_method = \"mean\" \n",
    "\n",
    "# ordinal, onehot etc.. (#FIXME: only supports ordinal encoding for now)\n",
    "encoder = \"ordinal\" \n",
    "\n",
    "# cols that are categories rather than numbers and have to be encoded\n",
    "categorical_cols = ['Level (Tutor)']\n",
    "\n",
    "# none, l1, l2 etc..\n",
    "norm = \"none\" \n",
    "\n",
    "# set True to apply Recursive Feature Elimination\n",
    "apply_rfe = True\n",
    "\n",
    "test_split = 0.2\n",
    "num_runs = 1\n",
    "\n",
    "# k neighbors classifier\n",
    "neighbors = 5\n",
    "\n",
    "# linear, poly, rbf, sigmoid\n",
    "svc_kernel = 'linear'\n",
    "\n",
    "# Params for For Neural networks\n",
    "lr = 0.008\n",
    "epochs = 3000\n",
    "layer_sizes = [30, 30, 30]\n",
    "# network width\n",
    "n = 10\n",
    "\n",
    "# Supports logistic_regression, k_neighbors_classifier, svm, nn\n",
    "algo = \"nn\"\n",
    "\n",
    "# used to store performance of each run in num_runs\n",
    "total_perfs = []\n",
    "\n",
    "for i in range(num_runs):\n",
    "    X = bpop_math_df[cols]\n",
    "    X = X.sample(frac=1).reset_index(drop=True)\n",
    "    y = X[['Outcome']]\n",
    "    X = X.drop(['Outcome'], axis=1)\n",
    "    perf = run_algo(algo, X, y, clean_method, encoder, norm, test_split, apply_rfe, categorical_cols, neighbors, svc_kernel, lr, epochs, layer_sizes, n)\n",
    "    total_perfs.append(perf)\n",
    "\n",
    "avg_perf = sum(total_perfs)/num_runs\n",
    "print(\"Avg. performance over \", num_runs, \"runs: \", avg_perf)\n",
    "print(avg_perf, \"%(\", min(total_perfs), \"-\", max(total_perfs) ,\")\")"
   ]
  },
  {
   "cell_type": "code",
   "execution_count": 185,
   "metadata": {
    "collapsed": true
   },
   "outputs": [
    {
     "ename": "TypeError",
     "evalue": "run_algo() missing 1 required positional argument: 'n'",
     "output_type": "error",
     "traceback": [
      "\u001b[1;31m---------------------------------------------------------------------------\u001b[0m",
      "\u001b[1;31mTypeError\u001b[0m                                 Traceback (most recent call last)",
      "\u001b[1;32m<ipython-input-185-4a825455ec1f>\u001b[0m in \u001b[0;36m<module>\u001b[1;34m\u001b[0m\n\u001b[0;32m      8\u001b[0m     \u001b[0my\u001b[0m \u001b[1;33m=\u001b[0m \u001b[0mX\u001b[0m\u001b[1;33m[\u001b[0m\u001b[1;33m[\u001b[0m\u001b[1;34m'Outcome'\u001b[0m\u001b[1;33m]\u001b[0m\u001b[1;33m]\u001b[0m\u001b[1;33m\u001b[0m\u001b[1;33m\u001b[0m\u001b[0m\n\u001b[0;32m      9\u001b[0m     \u001b[0mX\u001b[0m \u001b[1;33m=\u001b[0m \u001b[0mX\u001b[0m\u001b[1;33m.\u001b[0m\u001b[0mdrop\u001b[0m\u001b[1;33m(\u001b[0m\u001b[1;33m[\u001b[0m\u001b[1;34m'Outcome'\u001b[0m\u001b[1;33m]\u001b[0m\u001b[1;33m,\u001b[0m \u001b[0maxis\u001b[0m\u001b[1;33m=\u001b[0m\u001b[1;36m1\u001b[0m\u001b[1;33m)\u001b[0m\u001b[1;33m\u001b[0m\u001b[1;33m\u001b[0m\u001b[0m\n\u001b[1;32m---> 10\u001b[1;33m     \u001b[0mperf\u001b[0m \u001b[1;33m=\u001b[0m \u001b[0mrun_algo\u001b[0m\u001b[1;33m(\u001b[0m\u001b[0malgo\u001b[0m\u001b[1;33m,\u001b[0m \u001b[0mX\u001b[0m\u001b[1;33m,\u001b[0m \u001b[0my\u001b[0m\u001b[1;33m,\u001b[0m \u001b[0mclean_method\u001b[0m\u001b[1;33m,\u001b[0m \u001b[0mencoder\u001b[0m\u001b[1;33m,\u001b[0m \u001b[0mnorm\u001b[0m\u001b[1;33m,\u001b[0m \u001b[0mtest_split\u001b[0m\u001b[1;33m,\u001b[0m \u001b[0mapply_rfe\u001b[0m\u001b[1;33m,\u001b[0m \u001b[0mcategorical_cols\u001b[0m\u001b[1;33m,\u001b[0m \u001b[0mneighbors\u001b[0m\u001b[1;33m,\u001b[0m \u001b[0msvc_kernel\u001b[0m\u001b[1;33m,\u001b[0m \u001b[0mlr\u001b[0m\u001b[1;33m,\u001b[0m \u001b[0mepoch\u001b[0m\u001b[1;33m,\u001b[0m \u001b[0mlayer_sizes\u001b[0m\u001b[1;33m)\u001b[0m\u001b[1;33m\u001b[0m\u001b[1;33m\u001b[0m\u001b[0m\n\u001b[0m\u001b[0;32m     11\u001b[0m     \u001b[0mperf_lists\u001b[0m\u001b[1;33m.\u001b[0m\u001b[0mappend\u001b[0m\u001b[1;33m(\u001b[0m\u001b[0mperf\u001b[0m\u001b[1;33m)\u001b[0m\u001b[1;33m\u001b[0m\u001b[1;33m\u001b[0m\u001b[0m\n\u001b[0;32m     12\u001b[0m     \u001b[0mprint\u001b[0m\u001b[1;33m(\u001b[0m\u001b[1;34m\"PERFORMANCE: \"\u001b[0m\u001b[1;33m,\u001b[0m \u001b[0mperf\u001b[0m\u001b[1;33m)\u001b[0m\u001b[1;33m\u001b[0m\u001b[1;33m\u001b[0m\u001b[0m\n",
      "\u001b[1;31mTypeError\u001b[0m: run_algo() missing 1 required positional argument: 'n'"
     ]
    }
   ],
   "source": [
    "epochs_list = [3000, 4000, 5000, 7000, 10000, 12000, 24000]\n",
    "x_axis = [i+1 for i in range(len(epochs_list))]\n",
    "perf_epochs_lists = []\n",
    "\n",
    "for epoch in epochs_list:\n",
    "    X = bpop_math_df[cols]\n",
    "    X = X.sample(frac=1).reset_index(drop=True)\n",
    "    y = X[['Outcome']]\n",
    "    X = X.drop(['Outcome'], axis=1)\n",
    "    perf = run_algo(algo, X, y, clean_method, encoder, norm, test_split, apply_rfe, categorical_cols, neighbors, svc_kernel, lr, epoch, layer_sizes, n)\n",
    "    perf_epochs_lists.append(perf)\n",
    "    print(\"PERFORMANCE: \", perf)\n",
    "\n",
    "plt.plot(epochs_list, perf_epochs_lists)\n",
    "plt.show()\n",
    "print(perf_epochs_lists)"
   ]
  },
  {
   "cell_type": "code",
   "execution_count": 206,
   "metadata": {
    "scrolled": false
   },
   "outputs": [
    {
     "name": "stderr",
     "output_type": "stream",
     "text": [
      "C:\\Users\\jithe\\Anaconda3\\lib\\site-packages\\ipykernel_launcher.py:146: SettingWithCopyWarning: \n",
      "A value is trying to be set on a copy of a slice from a DataFrame.\n",
      "Try using .loc[row_indexer,col_indexer] = value instead\n",
      "\n",
      "See the caveats in the documentation: http://pandas.pydata.org/pandas-docs/stable/user_guide/indexing.html#returning-a-view-versus-a-copy\n",
      "C:\\Users\\jithe\\Anaconda3\\lib\\site-packages\\ipykernel_launcher.py:147: SettingWithCopyWarning: \n",
      "A value is trying to be set on a copy of a slice from a DataFrame.\n",
      "Try using .loc[row_indexer,col_indexer] = value instead\n",
      "\n",
      "See the caveats in the documentation: http://pandas.pydata.org/pandas-docs/stable/user_guide/indexing.html#returning-a-view-versus-a-copy\n",
      "C:\\Users\\jithe\\Anaconda3\\lib\\site-packages\\ipykernel_launcher.py:148: SettingWithCopyWarning: \n",
      "A value is trying to be set on a copy of a slice from a DataFrame.\n",
      "Try using .loc[row_indexer,col_indexer] = value instead\n",
      "\n",
      "See the caveats in the documentation: http://pandas.pydata.org/pandas-docs/stable/user_guide/indexing.html#returning-a-view-versus-a-copy\n",
      "C:\\Users\\jithe\\Anaconda3\\lib\\site-packages\\ipykernel_launcher.py:149: SettingWithCopyWarning: \n",
      "A value is trying to be set on a copy of a slice from a DataFrame.\n",
      "Try using .loc[row_indexer,col_indexer] = value instead\n",
      "\n",
      "See the caveats in the documentation: http://pandas.pydata.org/pandas-docs/stable/user_guide/indexing.html#returning-a-view-versus-a-copy\n",
      "C:\\Users\\jithe\\Anaconda3\\lib\\site-packages\\ipykernel_launcher.py:151: SettingWithCopyWarning: \n",
      "A value is trying to be set on a copy of a slice from a DataFrame.\n",
      "Try using .loc[row_indexer,col_indexer] = value instead\n",
      "\n",
      "See the caveats in the documentation: http://pandas.pydata.org/pandas-docs/stable/user_guide/indexing.html#returning-a-view-versus-a-copy\n",
      "C:\\Users\\jithe\\Anaconda3\\lib\\site-packages\\ipykernel_launcher.py:152: SettingWithCopyWarning: \n",
      "A value is trying to be set on a copy of a slice from a DataFrame.\n",
      "Try using .loc[row_indexer,col_indexer] = value instead\n",
      "\n",
      "See the caveats in the documentation: http://pandas.pydata.org/pandas-docs/stable/user_guide/indexing.html#returning-a-view-versus-a-copy\n",
      "C:\\Users\\jithe\\Anaconda3\\lib\\site-packages\\ipykernel_launcher.py:153: SettingWithCopyWarning: \n",
      "A value is trying to be set on a copy of a slice from a DataFrame.\n",
      "Try using .loc[row_indexer,col_indexer] = value instead\n",
      "\n",
      "See the caveats in the documentation: http://pandas.pydata.org/pandas-docs/stable/user_guide/indexing.html#returning-a-view-versus-a-copy\n",
      "C:\\Users\\jithe\\Anaconda3\\lib\\site-packages\\ipykernel_launcher.py:154: SettingWithCopyWarning: \n",
      "A value is trying to be set on a copy of a slice from a DataFrame.\n",
      "Try using .loc[row_indexer,col_indexer] = value instead\n",
      "\n",
      "See the caveats in the documentation: http://pandas.pydata.org/pandas-docs/stable/user_guide/indexing.html#returning-a-view-versus-a-copy\n"
     ]
    },
    {
     "name": "stdout",
     "output_type": "stream",
     "text": [
      "StudentNet(\n",
      "  (fc1): Linear(in_features=5, out_features=5, bias=True)\n",
      "  (fc2): Linear(in_features=5, out_features=5, bias=True)\n",
      "  (fc2a): Linear(in_features=5, out_features=5, bias=True)\n",
      "  (fc3): Linear(in_features=5, out_features=5, bias=True)\n",
      "  (fc4): Linear(in_features=5, out_features=2, bias=True)\n",
      ")\n",
      "Loss:  0.730551540851593\n",
      "Loss:  0.5940259695053101\n",
      "Loss:  0.5920682549476624\n",
      "Loss:  0.5896100997924805\n",
      "Loss:  0.5889630913734436\n"
     ]
    },
    {
     "name": "stderr",
     "output_type": "stream",
     "text": [
      "C:\\Users\\jithe\\Anaconda3\\lib\\site-packages\\ipykernel_launcher.py:198: UserWarning: Implicit dimension choice for softmax has been deprecated. Change the call to include dim=X as an argument.\n"
     ]
    },
    {
     "name": "stdout",
     "output_type": "stream",
     "text": [
      "ACCURACY:  70.2834008097166 %\n"
     ]
    },
    {
     "data": {
      "image/png": "[encoded data removed]",
      "text/plain": [
       "<Figure size 432x288 with 1 Axes>"
      ]
     },
     "metadata": {
      "needs_background": "light"
     },
     "output_type": "display_data"
    },
    {
     "name": "stdout",
     "output_type": "stream",
     "text": [
      "PERFORMANCE:  70.2834008097166\n"
     ]
    },
    {
     "name": "stderr",
     "output_type": "stream",
     "text": [
      "C:\\Users\\jithe\\Anaconda3\\lib\\site-packages\\ipykernel_launcher.py:146: SettingWithCopyWarning: \n",
      "A value is trying to be set on a copy of a slice from a DataFrame.\n",
      "Try using .loc[row_indexer,col_indexer] = value instead\n",
      "\n",
      "See the caveats in the documentation: http://pandas.pydata.org/pandas-docs/stable/user_guide/indexing.html#returning-a-view-versus-a-copy\n",
      "C:\\Users\\jithe\\Anaconda3\\lib\\site-packages\\ipykernel_launcher.py:147: SettingWithCopyWarning: \n",
      "A value is trying to be set on a copy of a slice from a DataFrame.\n",
      "Try using .loc[row_indexer,col_indexer] = value instead\n",
      "\n",
      "See the caveats in the documentation: http://pandas.pydata.org/pandas-docs/stable/user_guide/indexing.html#returning-a-view-versus-a-copy\n",
      "C:\\Users\\jithe\\Anaconda3\\lib\\site-packages\\ipykernel_launcher.py:148: SettingWithCopyWarning: \n",
      "A value is trying to be set on a copy of a slice from a DataFrame.\n",
      "Try using .loc[row_indexer,col_indexer] = value instead\n",
      "\n",
      "See the caveats in the documentation: http://pandas.pydata.org/pandas-docs/stable/user_guide/indexing.html#returning-a-view-versus-a-copy\n",
      "C:\\Users\\jithe\\Anaconda3\\lib\\site-packages\\ipykernel_launcher.py:149: SettingWithCopyWarning: \n",
      "A value is trying to be set on a copy of a slice from a DataFrame.\n",
      "Try using .loc[row_indexer,col_indexer] = value instead\n",
      "\n",
      "See the caveats in the documentation: http://pandas.pydata.org/pandas-docs/stable/user_guide/indexing.html#returning-a-view-versus-a-copy\n",
      "C:\\Users\\jithe\\Anaconda3\\lib\\site-packages\\ipykernel_launcher.py:151: SettingWithCopyWarning: \n",
      "A value is trying to be set on a copy of a slice from a DataFrame.\n",
      "Try using .loc[row_indexer,col_indexer] = value instead\n",
      "\n",
      "See the caveats in the documentation: http://pandas.pydata.org/pandas-docs/stable/user_guide/indexing.html#returning-a-view-versus-a-copy\n",
      "C:\\Users\\jithe\\Anaconda3\\lib\\site-packages\\ipykernel_launcher.py:152: SettingWithCopyWarning: \n",
      "A value is trying to be set on a copy of a slice from a DataFrame.\n",
      "Try using .loc[row_indexer,col_indexer] = value instead\n",
      "\n",
      "See the caveats in the documentation: http://pandas.pydata.org/pandas-docs/stable/user_guide/indexing.html#returning-a-view-versus-a-copy\n",
      "C:\\Users\\jithe\\Anaconda3\\lib\\site-packages\\ipykernel_launcher.py:153: SettingWithCopyWarning: \n",
      "A value is trying to be set on a copy of a slice from a DataFrame.\n",
      "Try using .loc[row_indexer,col_indexer] = value instead\n",
      "\n",
      "See the caveats in the documentation: http://pandas.pydata.org/pandas-docs/stable/user_guide/indexing.html#returning-a-view-versus-a-copy\n",
      "C:\\Users\\jithe\\Anaconda3\\lib\\site-packages\\ipykernel_launcher.py:154: SettingWithCopyWarning: \n",
      "A value is trying to be set on a copy of a slice from a DataFrame.\n",
      "Try using .loc[row_indexer,col_indexer] = value instead\n",
      "\n",
      "See the caveats in the documentation: http://pandas.pydata.org/pandas-docs/stable/user_guide/indexing.html#returning-a-view-versus-a-copy\n"
     ]
    },
    {
     "name": "stdout",
     "output_type": "stream",
     "text": [
      "StudentNet(\n",
      "  (fc1): Linear(in_features=5, out_features=10, bias=True)\n",
      "  (fc2): Linear(in_features=10, out_features=10, bias=True)\n",
      "  (fc2a): Linear(in_features=10, out_features=10, bias=True)\n",
      "  (fc3): Linear(in_features=10, out_features=10, bias=True)\n",
      "  (fc4): Linear(in_features=10, out_features=2, bias=True)\n",
      ")\n",
      "Loss:  1.3942592144012451\n",
      "Loss:  0.5890932083129883\n",
      "Loss:  0.5871317386627197\n",
      "Loss:  0.5841469168663025\n",
      "Loss:  0.5841205716133118\n"
     ]
    },
    {
     "name": "stderr",
     "output_type": "stream",
     "text": [
      "C:\\Users\\jithe\\Anaconda3\\lib\\site-packages\\ipykernel_launcher.py:198: UserWarning: Implicit dimension choice for softmax has been deprecated. Change the call to include dim=X as an argument.\n"
     ]
    },
    {
     "name": "stdout",
     "output_type": "stream",
     "text": [
      "ACCURACY:  69.39271255060729 %\n"
     ]
    },
    {
     "data": {
      "image/png": "[encoded data removed]",
      "text/plain": [
       "<Figure size 432x288 with 1 Axes>"
      ]
     },
     "metadata": {
      "needs_background": "light"
     },
     "output_type": "display_data"
    },
    {
     "name": "stdout",
     "output_type": "stream",
     "text": [
      "PERFORMANCE:  69.39271255060729\n"
     ]
    },
    {
     "name": "stderr",
     "output_type": "stream",
     "text": [
      "C:\\Users\\jithe\\Anaconda3\\lib\\site-packages\\ipykernel_launcher.py:146: SettingWithCopyWarning: \n",
      "A value is trying to be set on a copy of a slice from a DataFrame.\n",
      "Try using .loc[row_indexer,col_indexer] = value instead\n",
      "\n",
      "See the caveats in the documentation: http://pandas.pydata.org/pandas-docs/stable/user_guide/indexing.html#returning-a-view-versus-a-copy\n",
      "C:\\Users\\jithe\\Anaconda3\\lib\\site-packages\\ipykernel_launcher.py:147: SettingWithCopyWarning: \n",
      "A value is trying to be set on a copy of a slice from a DataFrame.\n",
      "Try using .loc[row_indexer,col_indexer] = value instead\n",
      "\n",
      "See the caveats in the documentation: http://pandas.pydata.org/pandas-docs/stable/user_guide/indexing.html#returning-a-view-versus-a-copy\n",
      "C:\\Users\\jithe\\Anaconda3\\lib\\site-packages\\ipykernel_launcher.py:148: SettingWithCopyWarning: \n",
      "A value is trying to be set on a copy of a slice from a DataFrame.\n",
      "Try using .loc[row_indexer,col_indexer] = value instead\n",
      "\n",
      "See the caveats in the documentation: http://pandas.pydata.org/pandas-docs/stable/user_guide/indexing.html#returning-a-view-versus-a-copy\n",
      "C:\\Users\\jithe\\Anaconda3\\lib\\site-packages\\ipykernel_launcher.py:149: SettingWithCopyWarning: \n",
      "A value is trying to be set on a copy of a slice from a DataFrame.\n",
      "Try using .loc[row_indexer,col_indexer] = value instead\n",
      "\n",
      "See the caveats in the documentation: http://pandas.pydata.org/pandas-docs/stable/user_guide/indexing.html#returning-a-view-versus-a-copy\n",
      "C:\\Users\\jithe\\Anaconda3\\lib\\site-packages\\ipykernel_launcher.py:151: SettingWithCopyWarning: \n",
      "A value is trying to be set on a copy of a slice from a DataFrame.\n",
      "Try using .loc[row_indexer,col_indexer] = value instead\n",
      "\n",
      "See the caveats in the documentation: http://pandas.pydata.org/pandas-docs/stable/user_guide/indexing.html#returning-a-view-versus-a-copy\n",
      "C:\\Users\\jithe\\Anaconda3\\lib\\site-packages\\ipykernel_launcher.py:152: SettingWithCopyWarning: \n",
      "A value is trying to be set on a copy of a slice from a DataFrame.\n",
      "Try using .loc[row_indexer,col_indexer] = value instead\n",
      "\n",
      "See the caveats in the documentation: http://pandas.pydata.org/pandas-docs/stable/user_guide/indexing.html#returning-a-view-versus-a-copy\n",
      "C:\\Users\\jithe\\Anaconda3\\lib\\site-packages\\ipykernel_launcher.py:153: SettingWithCopyWarning: \n",
      "A value is trying to be set on a copy of a slice from a DataFrame.\n",
      "Try using .loc[row_indexer,col_indexer] = value instead\n",
      "\n",
      "See the caveats in the documentation: http://pandas.pydata.org/pandas-docs/stable/user_guide/indexing.html#returning-a-view-versus-a-copy\n",
      "C:\\Users\\jithe\\Anaconda3\\lib\\site-packages\\ipykernel_launcher.py:154: SettingWithCopyWarning: \n",
      "A value is trying to be set on a copy of a slice from a DataFrame.\n",
      "Try using .loc[row_indexer,col_indexer] = value instead\n",
      "\n",
      "See the caveats in the documentation: http://pandas.pydata.org/pandas-docs/stable/user_guide/indexing.html#returning-a-view-versus-a-copy\n"
     ]
    },
    {
     "name": "stdout",
     "output_type": "stream",
     "text": [
      "StudentNet(\n",
      "  (fc1): Linear(in_features=5, out_features=15, bias=True)\n",
      "  (fc2): Linear(in_features=15, out_features=15, bias=True)\n",
      "  (fc2a): Linear(in_features=15, out_features=15, bias=True)\n",
      "  (fc3): Linear(in_features=15, out_features=15, bias=True)\n",
      "  (fc4): Linear(in_features=15, out_features=2, bias=True)\n",
      ")\n",
      "Loss:  0.8839671611785889\n",
      "Loss:  0.5783544778823853\n",
      "Loss:  0.5730663537979126\n",
      "Loss:  0.5681618452072144\n",
      "Loss:  0.5663139820098877\n"
     ]
    },
    {
     "name": "stderr",
     "output_type": "stream",
     "text": [
      "C:\\Users\\jithe\\Anaconda3\\lib\\site-packages\\ipykernel_launcher.py:198: UserWarning: Implicit dimension choice for softmax has been deprecated. Change the call to include dim=X as an argument.\n"
     ]
    },
    {
     "name": "stdout",
     "output_type": "stream",
     "text": [
      "ACCURACY:  67.85425101214575 %\n"
     ]
    },
    {
     "data": {
      "image/png": "[encoded data removed]",
      "text/plain": [
       "<Figure size 432x288 with 1 Axes>"
      ]
     },
     "metadata": {
      "needs_background": "light"
     },
     "output_type": "display_data"
    },
    {
     "name": "stdout",
     "output_type": "stream",
     "text": [
      "PERFORMANCE:  67.85425101214575\n"
     ]
    },
    {
     "name": "stderr",
     "output_type": "stream",
     "text": [
      "C:\\Users\\jithe\\Anaconda3\\lib\\site-packages\\ipykernel_launcher.py:146: SettingWithCopyWarning: \n",
      "A value is trying to be set on a copy of a slice from a DataFrame.\n",
      "Try using .loc[row_indexer,col_indexer] = value instead\n",
      "\n",
      "See the caveats in the documentation: http://pandas.pydata.org/pandas-docs/stable/user_guide/indexing.html#returning-a-view-versus-a-copy\n",
      "C:\\Users\\jithe\\Anaconda3\\lib\\site-packages\\ipykernel_launcher.py:147: SettingWithCopyWarning: \n",
      "A value is trying to be set on a copy of a slice from a DataFrame.\n",
      "Try using .loc[row_indexer,col_indexer] = value instead\n",
      "\n",
      "See the caveats in the documentation: http://pandas.pydata.org/pandas-docs/stable/user_guide/indexing.html#returning-a-view-versus-a-copy\n",
      "C:\\Users\\jithe\\Anaconda3\\lib\\site-packages\\ipykernel_launcher.py:148: SettingWithCopyWarning: \n",
      "A value is trying to be set on a copy of a slice from a DataFrame.\n",
      "Try using .loc[row_indexer,col_indexer] = value instead\n",
      "\n",
      "See the caveats in the documentation: http://pandas.pydata.org/pandas-docs/stable/user_guide/indexing.html#returning-a-view-versus-a-copy\n",
      "C:\\Users\\jithe\\Anaconda3\\lib\\site-packages\\ipykernel_launcher.py:149: SettingWithCopyWarning: \n",
      "A value is trying to be set on a copy of a slice from a DataFrame.\n",
      "Try using .loc[row_indexer,col_indexer] = value instead\n",
      "\n",
      "See the caveats in the documentation: http://pandas.pydata.org/pandas-docs/stable/user_guide/indexing.html#returning-a-view-versus-a-copy\n",
      "C:\\Users\\jithe\\Anaconda3\\lib\\site-packages\\ipykernel_launcher.py:151: SettingWithCopyWarning: \n",
      "A value is trying to be set on a copy of a slice from a DataFrame.\n",
      "Try using .loc[row_indexer,col_indexer] = value instead\n",
      "\n",
      "See the caveats in the documentation: http://pandas.pydata.org/pandas-docs/stable/user_guide/indexing.html#returning-a-view-versus-a-copy\n",
      "C:\\Users\\jithe\\Anaconda3\\lib\\site-packages\\ipykernel_launcher.py:152: SettingWithCopyWarning: \n",
      "A value is trying to be set on a copy of a slice from a DataFrame.\n",
      "Try using .loc[row_indexer,col_indexer] = value instead\n",
      "\n",
      "See the caveats in the documentation: http://pandas.pydata.org/pandas-docs/stable/user_guide/indexing.html#returning-a-view-versus-a-copy\n",
      "C:\\Users\\jithe\\Anaconda3\\lib\\site-packages\\ipykernel_launcher.py:153: SettingWithCopyWarning: \n",
      "A value is trying to be set on a copy of a slice from a DataFrame.\n",
      "Try using .loc[row_indexer,col_indexer] = value instead\n",
      "\n",
      "See the caveats in the documentation: http://pandas.pydata.org/pandas-docs/stable/user_guide/indexing.html#returning-a-view-versus-a-copy\n",
      "C:\\Users\\jithe\\Anaconda3\\lib\\site-packages\\ipykernel_launcher.py:154: SettingWithCopyWarning: \n",
      "A value is trying to be set on a copy of a slice from a DataFrame.\n",
      "Try using .loc[row_indexer,col_indexer] = value instead\n",
      "\n",
      "See the caveats in the documentation: http://pandas.pydata.org/pandas-docs/stable/user_guide/indexing.html#returning-a-view-versus-a-copy\n"
     ]
    },
    {
     "name": "stdout",
     "output_type": "stream",
     "text": [
      "StudentNet(\n",
      "  (fc1): Linear(in_features=5, out_features=20, bias=True)\n",
      "  (fc2): Linear(in_features=20, out_features=20, bias=True)\n",
      "  (fc2a): Linear(in_features=20, out_features=20, bias=True)\n",
      "  (fc3): Linear(in_features=20, out_features=20, bias=True)\n",
      "  (fc4): Linear(in_features=20, out_features=2, bias=True)\n",
      ")\n",
      "Loss:  0.7016373872756958\n",
      "Loss:  0.5822434425354004\n",
      "Loss:  0.5732693076133728\n",
      "Loss:  0.5728091597557068\n",
      "Loss:  0.5689723491668701\n"
     ]
    },
    {
     "name": "stderr",
     "output_type": "stream",
     "text": [
      "C:\\Users\\jithe\\Anaconda3\\lib\\site-packages\\ipykernel_launcher.py:198: UserWarning: Implicit dimension choice for softmax has been deprecated. Change the call to include dim=X as an argument.\n"
     ]
    },
    {
     "name": "stdout",
     "output_type": "stream",
     "text": [
      "ACCURACY:  71.7408906882591 %\n"
     ]
    },
    {
     "data": {
      "image/png": "[encoded data removed]",
      "text/plain": [
       "<Figure size 432x288 with 1 Axes>"
      ]
     },
     "metadata": {
      "needs_background": "light"
     },
     "output_type": "display_data"
    },
    {
     "name": "stdout",
     "output_type": "stream",
     "text": [
      "PERFORMANCE:  71.7408906882591\n"
     ]
    },
    {
     "name": "stderr",
     "output_type": "stream",
     "text": [
      "C:\\Users\\jithe\\Anaconda3\\lib\\site-packages\\ipykernel_launcher.py:146: SettingWithCopyWarning: \n",
      "A value is trying to be set on a copy of a slice from a DataFrame.\n",
      "Try using .loc[row_indexer,col_indexer] = value instead\n",
      "\n",
      "See the caveats in the documentation: http://pandas.pydata.org/pandas-docs/stable/user_guide/indexing.html#returning-a-view-versus-a-copy\n",
      "C:\\Users\\jithe\\Anaconda3\\lib\\site-packages\\ipykernel_launcher.py:147: SettingWithCopyWarning: \n",
      "A value is trying to be set on a copy of a slice from a DataFrame.\n",
      "Try using .loc[row_indexer,col_indexer] = value instead\n",
      "\n",
      "See the caveats in the documentation: http://pandas.pydata.org/pandas-docs/stable/user_guide/indexing.html#returning-a-view-versus-a-copy\n",
      "C:\\Users\\jithe\\Anaconda3\\lib\\site-packages\\ipykernel_launcher.py:148: SettingWithCopyWarning: \n",
      "A value is trying to be set on a copy of a slice from a DataFrame.\n",
      "Try using .loc[row_indexer,col_indexer] = value instead\n",
      "\n",
      "See the caveats in the documentation: http://pandas.pydata.org/pandas-docs/stable/user_guide/indexing.html#returning-a-view-versus-a-copy\n",
      "C:\\Users\\jithe\\Anaconda3\\lib\\site-packages\\ipykernel_launcher.py:149: SettingWithCopyWarning: \n",
      "A value is trying to be set on a copy of a slice from a DataFrame.\n",
      "Try using .loc[row_indexer,col_indexer] = value instead\n",
      "\n",
      "See the caveats in the documentation: http://pandas.pydata.org/pandas-docs/stable/user_guide/indexing.html#returning-a-view-versus-a-copy\n",
      "C:\\Users\\jithe\\Anaconda3\\lib\\site-packages\\ipykernel_launcher.py:151: SettingWithCopyWarning: \n",
      "A value is trying to be set on a copy of a slice from a DataFrame.\n",
      "Try using .loc[row_indexer,col_indexer] = value instead\n",
      "\n",
      "See the caveats in the documentation: http://pandas.pydata.org/pandas-docs/stable/user_guide/indexing.html#returning-a-view-versus-a-copy\n",
      "C:\\Users\\jithe\\Anaconda3\\lib\\site-packages\\ipykernel_launcher.py:152: SettingWithCopyWarning: \n",
      "A value is trying to be set on a copy of a slice from a DataFrame.\n",
      "Try using .loc[row_indexer,col_indexer] = value instead\n",
      "\n",
      "See the caveats in the documentation: http://pandas.pydata.org/pandas-docs/stable/user_guide/indexing.html#returning-a-view-versus-a-copy\n",
      "C:\\Users\\jithe\\Anaconda3\\lib\\site-packages\\ipykernel_launcher.py:153: SettingWithCopyWarning: \n",
      "A value is trying to be set on a copy of a slice from a DataFrame.\n",
      "Try using .loc[row_indexer,col_indexer] = value instead\n",
      "\n",
      "See the caveats in the documentation: http://pandas.pydata.org/pandas-docs/stable/user_guide/indexing.html#returning-a-view-versus-a-copy\n",
      "C:\\Users\\jithe\\Anaconda3\\lib\\site-packages\\ipykernel_launcher.py:154: SettingWithCopyWarning: \n",
      "A value is trying to be set on a copy of a slice from a DataFrame.\n",
      "Try using .loc[row_indexer,col_indexer] = value instead\n",
      "\n",
      "See the caveats in the documentation: http://pandas.pydata.org/pandas-docs/stable/user_guide/indexing.html#returning-a-view-versus-a-copy\n"
     ]
    },
    {
     "name": "stdout",
     "output_type": "stream",
     "text": [
      "StudentNet(\n",
      "  (fc1): Linear(in_features=5, out_features=25, bias=True)\n",
      "  (fc2): Linear(in_features=25, out_features=25, bias=True)\n",
      "  (fc2a): Linear(in_features=25, out_features=25, bias=True)\n",
      "  (fc3): Linear(in_features=25, out_features=25, bias=True)\n",
      "  (fc4): Linear(in_features=25, out_features=2, bias=True)\n",
      ")\n",
      "Loss:  1.6392301321029663\n",
      "Loss:  0.5812219977378845\n",
      "Loss:  0.5803312063217163\n",
      "Loss:  0.5702828764915466\n",
      "Loss:  0.5707808136940002\n"
     ]
    },
    {
     "name": "stderr",
     "output_type": "stream",
     "text": [
      "C:\\Users\\jithe\\Anaconda3\\lib\\site-packages\\ipykernel_launcher.py:198: UserWarning: Implicit dimension choice for softmax has been deprecated. Change the call to include dim=X as an argument.\n"
     ]
    },
    {
     "name": "stdout",
     "output_type": "stream",
     "text": [
      "ACCURACY:  67.28744939271255 %\n"
     ]
    },
    {
     "data": {
      "image/png": "[encoded data removed]",
      "text/plain": [
       "<Figure size 432x288 with 1 Axes>"
      ]
     },
     "metadata": {
      "needs_background": "light"
     },
     "output_type": "display_data"
    },
    {
     "name": "stdout",
     "output_type": "stream",
     "text": [
      "PERFORMANCE:  67.28744939271255\n"
     ]
    },
    {
     "name": "stderr",
     "output_type": "stream",
     "text": [
      "C:\\Users\\jithe\\Anaconda3\\lib\\site-packages\\ipykernel_launcher.py:146: SettingWithCopyWarning: \n",
      "A value is trying to be set on a copy of a slice from a DataFrame.\n",
      "Try using .loc[row_indexer,col_indexer] = value instead\n",
      "\n",
      "See the caveats in the documentation: http://pandas.pydata.org/pandas-docs/stable/user_guide/indexing.html#returning-a-view-versus-a-copy\n",
      "C:\\Users\\jithe\\Anaconda3\\lib\\site-packages\\ipykernel_launcher.py:147: SettingWithCopyWarning: \n",
      "A value is trying to be set on a copy of a slice from a DataFrame.\n",
      "Try using .loc[row_indexer,col_indexer] = value instead\n",
      "\n",
      "See the caveats in the documentation: http://pandas.pydata.org/pandas-docs/stable/user_guide/indexing.html#returning-a-view-versus-a-copy\n",
      "C:\\Users\\jithe\\Anaconda3\\lib\\site-packages\\ipykernel_launcher.py:148: SettingWithCopyWarning: \n",
      "A value is trying to be set on a copy of a slice from a DataFrame.\n",
      "Try using .loc[row_indexer,col_indexer] = value instead\n",
      "\n",
      "See the caveats in the documentation: http://pandas.pydata.org/pandas-docs/stable/user_guide/indexing.html#returning-a-view-versus-a-copy\n",
      "C:\\Users\\jithe\\Anaconda3\\lib\\site-packages\\ipykernel_launcher.py:149: SettingWithCopyWarning: \n",
      "A value is trying to be set on a copy of a slice from a DataFrame.\n",
      "Try using .loc[row_indexer,col_indexer] = value instead\n",
      "\n",
      "See the caveats in the documentation: http://pandas.pydata.org/pandas-docs/stable/user_guide/indexing.html#returning-a-view-versus-a-copy\n",
      "C:\\Users\\jithe\\Anaconda3\\lib\\site-packages\\ipykernel_launcher.py:151: SettingWithCopyWarning: \n",
      "A value is trying to be set on a copy of a slice from a DataFrame.\n",
      "Try using .loc[row_indexer,col_indexer] = value instead\n",
      "\n",
      "See the caveats in the documentation: http://pandas.pydata.org/pandas-docs/stable/user_guide/indexing.html#returning-a-view-versus-a-copy\n",
      "C:\\Users\\jithe\\Anaconda3\\lib\\site-packages\\ipykernel_launcher.py:152: SettingWithCopyWarning: \n",
      "A value is trying to be set on a copy of a slice from a DataFrame.\n",
      "Try using .loc[row_indexer,col_indexer] = value instead\n",
      "\n",
      "See the caveats in the documentation: http://pandas.pydata.org/pandas-docs/stable/user_guide/indexing.html#returning-a-view-versus-a-copy\n",
      "C:\\Users\\jithe\\Anaconda3\\lib\\site-packages\\ipykernel_launcher.py:153: SettingWithCopyWarning: \n",
      "A value is trying to be set on a copy of a slice from a DataFrame.\n",
      "Try using .loc[row_indexer,col_indexer] = value instead\n",
      "\n",
      "See the caveats in the documentation: http://pandas.pydata.org/pandas-docs/stable/user_guide/indexing.html#returning-a-view-versus-a-copy\n",
      "C:\\Users\\jithe\\Anaconda3\\lib\\site-packages\\ipykernel_launcher.py:154: SettingWithCopyWarning: \n",
      "A value is trying to be set on a copy of a slice from a DataFrame.\n",
      "Try using .loc[row_indexer,col_indexer] = value instead\n",
      "\n",
      "See the caveats in the documentation: http://pandas.pydata.org/pandas-docs/stable/user_guide/indexing.html#returning-a-view-versus-a-copy\n"
     ]
    },
    {
     "name": "stdout",
     "output_type": "stream",
     "text": [
      "StudentNet(\n",
      "  (fc1): Linear(in_features=5, out_features=30, bias=True)\n",
      "  (fc2): Linear(in_features=30, out_features=30, bias=True)\n",
      "  (fc2a): Linear(in_features=30, out_features=30, bias=True)\n",
      "  (fc3): Linear(in_features=30, out_features=30, bias=True)\n",
      "  (fc4): Linear(in_features=30, out_features=2, bias=True)\n",
      ")\n",
      "Loss:  0.6517269611358643\n",
      "Loss:  0.5873949527740479\n",
      "Loss:  0.5822079181671143\n",
      "Loss:  0.5809993147850037\n",
      "Loss:  0.5821938514709473\n"
     ]
    },
    {
     "name": "stderr",
     "output_type": "stream",
     "text": [
      "C:\\Users\\jithe\\Anaconda3\\lib\\site-packages\\ipykernel_launcher.py:198: UserWarning: Implicit dimension choice for softmax has been deprecated. Change the call to include dim=X as an argument.\n"
     ]
    },
    {
     "name": "stdout",
     "output_type": "stream",
     "text": [
      "ACCURACY:  70.04048582995951 %\n"
     ]
    },
    {
     "data": {
      "image/png": "[encoded data removed]",
      "text/plain": [
       "<Figure size 432x288 with 1 Axes>"
      ]
     },
     "metadata": {
      "needs_background": "light"
     },
     "output_type": "display_data"
    },
    {
     "name": "stdout",
     "output_type": "stream",
     "text": [
      "PERFORMANCE:  70.04048582995951\n"
     ]
    },
    {
     "data": {
      "image/png": "[encoded data removed]",
      "text/plain": [
       "<Figure size 432x288 with 1 Axes>"
      ]
     },
     "metadata": {
      "needs_background": "light"
     },
     "output_type": "display_data"
    },
    {
     "name": "stdout",
     "output_type": "stream",
     "text": [
      "[70.2834008097166, 69.39271255060729, 67.85425101214575, 71.7408906882591, 67.28744939271255, 70.04048582995951]\n"
     ]
    }
   ],
   "source": [
    "n_list = [5,10,15,20,25,30]\n",
    "perf_n_lists = []\n",
    "epoch = 2000\n",
    "\n",
    "for n in n_list:\n",
    "    X = bpop_math_df[cols]\n",
    "    X = X.sample(frac=1).reset_index(drop=True)\n",
    "    y = X[['Outcome']]\n",
    "    X = X.drop(['Outcome'], axis=1)\n",
    "    perf = run_algo(algo, X, y, clean_method, encoder, norm, test_split, apply_rfe, categorical_cols, neighbors, svc_kernel, lr, epoch, layer_sizes, n)\n",
    "    perf_n_lists.append(perf)\n",
    "    print(\"PERFORMANCE: \", perf)\n",
    "\n",
    "plt.plot(n_list, perf_n_lists)\n",
    "plt.show()\n",
    "print(perf_n_lists)"
   ]
  },
  {
   "cell_type": "code",
   "execution_count": null,
   "metadata": {},
   "outputs": [],
   "source": []
  }
 ],
 "metadata": {
  "kernelspec": {
   "display_name": "Python 3",
   "language": "python",
   "name": "python3"
  },
  "language_info": {
   "codemirror_mode": {
    "name": "ipython",
    "version": 3
   },
   "file_extension": ".py",
   "mimetype": "text/x-python",
   "name": "python",
   "nbconvert_exporter": "python",
   "pygments_lexer": "ipython3",
   "version": "3.7.1"
  }
 },
 "nbformat": 4,
 "nbformat_minor": 4
}
