{
 "cells": [
  {
   "cell_type": "code",
   "execution_count": 95,
   "metadata": {},
   "outputs": [
    {
     "ename": "FileNotFoundError",
     "evalue": "[WinError 2] The system cannot find the file specified: 'Data'",
     "output_type": "error",
     "traceback": [
      "\u001b[1;31m---------------------------------------------------------------------------\u001b[0m",
      "\u001b[1;31mFileNotFoundError\u001b[0m                         Traceback (most recent call last)",
      "\u001b[1;32m<ipython-input-95-757e5ab5c38e>\u001b[0m in \u001b[0;36m<module>\u001b[1;34m\u001b[0m\n\u001b[0;32m     19\u001b[0m \u001b[1;32mimport\u001b[0m \u001b[0mos\u001b[0m\u001b[1;33m\u001b[0m\u001b[1;33m\u001b[0m\u001b[0m\n\u001b[0;32m     20\u001b[0m \u001b[1;33m\u001b[0m\u001b[0m\n\u001b[1;32m---> 21\u001b[1;33m \u001b[0mos\u001b[0m\u001b[1;33m.\u001b[0m\u001b[0mchdir\u001b[0m\u001b[1;33m(\u001b[0m\u001b[1;34m'Data'\u001b[0m\u001b[1;33m)\u001b[0m\u001b[1;33m\u001b[0m\u001b[1;33m\u001b[0m\u001b[0m\n\u001b[0m\u001b[0;32m     22\u001b[0m \u001b[0mget_ipython\u001b[0m\u001b[1;33m(\u001b[0m\u001b[1;33m)\u001b[0m\u001b[1;33m.\u001b[0m\u001b[0msystem\u001b[0m\u001b[1;33m(\u001b[0m\u001b[1;34m'ls'\u001b[0m\u001b[1;33m)\u001b[0m\u001b[1;33m\u001b[0m\u001b[1;33m\u001b[0m\u001b[0m\n",
      "\u001b[1;31mFileNotFoundError\u001b[0m: [WinError 2] The system cannot find the file specified: 'Data'"
     ]
    }
   ],
   "source": [
    "# Data handling and processing\n",
    "import pandas as pd\n",
    "import numpy as np\n",
    "import math\n",
    "\n",
    "# Sklearn imports\n",
    "from sklearn import preprocessing\n",
    "from sklearn.linear_model import LogisticRegression\n",
    "from sklearn.model_selection import train_test_split\n",
    "from sklearn.preprocessing import OrdinalEncoder\n",
    "from sklearn.feature_selection import RFE\n",
    "from sklearn.linear_model import LogisticRegression\n",
    "\n",
    "# Plotting\n",
    "import matplotlib.pyplot as plt\n",
    "import seaborn as sns\n",
    "\n",
    "# File mgmt\n",
    "import os\n",
    "\n",
    "os.chdir('Data')\n",
    "!ls"
   ]
  },
  {
   "cell_type": "code",
   "execution_count": 96,
   "metadata": {},
   "outputs": [
    {
     "name": "stderr",
     "output_type": "stream",
     "text": [
      "C:\\Users\\jithe\\Anaconda3\\lib\\site-packages\\IPython\\core\\interactiveshell.py:3063: DtypeWarning: Columns (3,7,37,49) have mixed types. Specify dtype option on import or set low_memory=False.\n",
      "  interactivity=interactivity, compiler=compiler, result=result)\n"
     ]
    }
   ],
   "source": [
    "path = 'Transactions_Village114/ds3170_tx_All_Data_5208_2019_1211_082948.txt'\n",
    "df = pd.read_csv(path, sep=\"\\t\")\n",
    "cols = ['Anon Student Id', 'Session Id', 'Duration (sec)', 'Level (Tutor Name)', 'Level (Tutor)', 'Problem Name', 'Problem View','Step Name', 'Attempt At Step','Is Last Attempt','Outcome', 'Input','CF (File)','CF (Matrix)','CF (Matrix Level)', 'CF (Matrix Order)', 'CF (Total Activity Problems)']\n",
    "df = df[cols]\n",
    "bubble_pop_df = df[df['Level (Tutor Name)'] == 'bubble_pop']\n",
    "bpop_math_df = bubble_pop_df[bubble_pop_df['CF (Matrix)'] == 'math'] #6172\n",
    "\n",
    "# X and y -> inputs and outputs for the classification model\n",
    "cols = ['Duration (sec)', 'Level (Tutor)', 'Attempt At Step', 'CF (Matrix Level)', 'CF (Matrix Order)', 'Outcome']"
   ]
  },
  {
   "cell_type": "markdown",
   "metadata": {},
   "source": [
    "## Helpful functions"
   ]
  },
  {
   "cell_type": "code",
   "execution_count": 97,
   "metadata": {},
   "outputs": [],
   "source": [
    "# Clean duration (sec) columns: Convert all values to float, if not able to convert set value in that row as duration_mean\n",
    "def clean_duration_col_with_mean(X):\n",
    "    strings = 0\n",
    "    ints = 0\n",
    "    floats = 0\n",
    "    other = 0\n",
    "    cnt = 0\n",
    "    sums = 0\n",
    "    posn = []\n",
    "    X_duration_arr = X['Duration (sec)'].array\n",
    "\n",
    "    for i in range(len(X_duration_arr)):\n",
    "        if isinstance(X_duration_arr[i], int):\n",
    "            ints += 1\n",
    "        elif isinstance(X_duration_arr[i], str):\n",
    "            strings += 1\n",
    "            try:\n",
    "                X_duration_arr[i] = float(X_duration_arr[i])\n",
    "            except ValueError:\n",
    "#                 print(\"Cant convert to a float\", X_duration_arr[i], \"Position: \",i)\n",
    "                posn.append(i)\n",
    "        elif isinstance(X_duration_arr[i], float):\n",
    "            floats += 1\n",
    "    \n",
    "        if isinstance(X_duration_arr[i], float):\n",
    "            sums += X_duration_arr[i]\n",
    "            cnt += 1\n",
    "\n",
    "    duration_mean = sums/cnt\n",
    "    for i in range(len(posn)):\n",
    "        X_duration_arr[posn[i]] = duration_mean\n",
    "\n",
    "    for i in range(len(X_duration_arr)):\n",
    "        col = bpop_math_df.columns.get_loc('Duration (sec)')\n",
    "        val = X_duration_arr[i]\n",
    "        X.iloc[i, col] = val\n",
    "    \n",
    "    return X\n",
    "\n",
    "# Ordinal encodes a column\n",
    "def ordinal_encode_col(X, colname):\n",
    "    enc = OrdinalEncoder()\n",
    "    level_tutor = X[colname].tolist()\n",
    "    tutor_level_2dlist = []\n",
    "    for i in range(len(level_tutor)):\n",
    "        tutor_level_2dlist.append([level_tutor[i]])\n",
    "\n",
    "    enc.fit(tutor_level_2dlist)\n",
    "\n",
    "    col = X.columns.get_loc(colname)\n",
    "    num_entries = X.count()[colname]\n",
    "    for i in range(num_entries):\n",
    "        val = X.iloc[i, col]\n",
    "        val = enc.transform([[val]])[0][0]\n",
    "        X.iloc[i, col] = val\n",
    "    \n",
    "    return X\n",
    "\n",
    "def rfe(X_train, y_train):\n",
    "    data_final_vars=X_train.columns.values.tolist()\n",
    "    y_=['y']\n",
    "    X=[i for i in data_final_vars if i not in y_]\n",
    "    logreg = LogisticRegression()\n",
    "    rfe = RFE(logreg, 20)\n",
    "    rfe = rfe.fit(X_train, y_train)\n",
    "#     print(\"RFE Support: \",rfe.support_)\n",
    "#     print(\"RFE Ranking: \", rfe.ranking_)\n",
    "\n",
    "# incorrect -> 0, correct -> 1\n",
    "# set_zero = \"INCORRECT\" means incorrect will be set to 0 and other value as 1\n",
    "def encode_outputs(y, colname, set_zero):\n",
    "    col = y.columns.get_loc(colname)\n",
    "    for i in range(y.count()[colname]): \n",
    "        val = y.iloc[i, col]\n",
    "        if val == set_zero:\n",
    "            val = 0\n",
    "        else: \n",
    "            val = 1\n",
    "        y.iloc[i, col] = val\n",
    "    \n",
    "    return y\n",
    "\n",
    "def run_logistic_regression(X, y, clean_method, encoder, regularization, test_split, apply_rfe):\n",
    "    \n",
    "    if clean_method == \"mean\":\n",
    "        X = clean_duration_col_with_mean(X)\n",
    "    \n",
    "    if encoder == \"ordinal\":\n",
    "        X = ordinal_encode_col(X, 'Level (Tutor)')\n",
    "    \n",
    "    y = encode_outputs(y, 'Outcome', 'INCORRECT').values.ravel()\n",
    "    X_train, X_test, y_train, y_test = train_test_split(X, y, test_size=test_split)\n",
    "\n",
    "    if apply_rfe:\n",
    "        rfe(X_train, y_train)\n",
    "        \n",
    "    logreg = LogisticRegression()\n",
    "    logreg.fit(X_train, y_train)\n",
    "    performance = 100 * logreg.score(X_test, y_test)\n",
    "#     print('Accuracy of logistic regression classifier on test set: {:.2f}'.format(performance))\n",
    "    return performance\n",
    "    "
   ]
  },
  {
   "cell_type": "code",
   "execution_count": 98,
   "metadata": {},
   "outputs": [
    {
     "name": "stdout",
     "output_type": "stream",
     "text": [
      "[70.76923076923077]\n",
      "[70.76923076923077, 69.63562753036437]\n",
      "[70.76923076923077, 69.63562753036437, 69.23076923076923]\n",
      "[70.76923076923077, 69.63562753036437, 69.23076923076923, 70.8502024291498]\n",
      "[70.76923076923077, 69.63562753036437, 69.23076923076923, 70.8502024291498, 70.68825910931174]\n",
      "[70.76923076923077, 69.63562753036437, 69.23076923076923, 70.8502024291498, 70.68825910931174, 67.61133603238866]\n",
      "[70.76923076923077, 69.63562753036437, 69.23076923076923, 70.8502024291498, 70.68825910931174, 67.61133603238866, 69.7165991902834]\n",
      "[70.76923076923077, 69.63562753036437, 69.23076923076923, 70.8502024291498, 70.68825910931174, 67.61133603238866, 69.7165991902834, 68.17813765182186]\n",
      "[70.76923076923077, 69.63562753036437, 69.23076923076923, 70.8502024291498, 70.68825910931174, 67.61133603238866, 69.7165991902834, 68.17813765182186, 68.50202429149797]\n",
      "[70.76923076923077, 69.63562753036437, 69.23076923076923, 70.8502024291498, 70.68825910931174, 67.61133603238866, 69.7165991902834, 68.17813765182186, 68.50202429149797, 70.93117408906883]\n",
      "Avg. performance over  10 runs:  69.61133603238866\n"
     ]
    }
   ],
   "source": [
    "clean_method = \"mean\" # mean median or mode\n",
    "encoder = \"ordinal\" # ordinal, onehot etc..\n",
    "regularization = \"none\" # none, l1, l2 etc..\n",
    "test_split = 0.2\n",
    "apply_rfe = True\n",
    "num_runs = 10\n",
    "\n",
    "total_perfs = []\n",
    "\n",
    "for i in range(num_runs):\n",
    "    X = bpop_math_df[cols]\n",
    "    X = X.sample(frac=1).reset_index(drop=True)\n",
    "    y = X[['Outcome']]\n",
    "    X = X.drop(['Outcome'], axis=1)\n",
    "    perf = run_logistic_regression(X, y, clean_method, encoder, regularization, test_split, apply_rfe)\n",
    "    total_perfs.append(perf)\n",
    "    print(total_perfs)\n",
    "\n",
    "avg_perf = sum(total_perfs)/num_runs\n",
    "print(\"Avg. performance over \", num_runs, \"runs: \", avg_perf)"
   ]
  },
  {
   "cell_type": "code",
   "execution_count": 100,
   "metadata": {},
   "outputs": [
    {
     "name": "stdout",
     "output_type": "stream",
     "text": [
      "70.93117408906883 67.61133603238866\n"
     ]
    }
   ],
   "source": [
    "print(max(total_perfs), min(total_perfs))"
   ]
  },
  {
   "cell_type": "code",
   "execution_count": null,
   "metadata": {},
   "outputs": [],
   "source": []
  }
 ],
 "metadata": {
  "kernelspec": {
   "display_name": "Python 3",
   "language": "python",
   "name": "python3"
  },
  "language_info": {
   "codemirror_mode": {
    "name": "ipython",
    "version": 3
   },
   "file_extension": ".py",
   "mimetype": "text/x-python",
   "name": "python",
   "nbconvert_exporter": "python",
   "pygments_lexer": "ipython3",
   "version": "3.7.1"
  }
 },
 "nbformat": 4,
 "nbformat_minor": 4
}
