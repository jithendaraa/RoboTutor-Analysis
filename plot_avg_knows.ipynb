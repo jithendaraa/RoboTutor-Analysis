{
 "cells": [
  {
   "cell_type": "code",
   "execution_count": 1,
   "metadata": {},
   "outputs": [],
   "source": [
    "import os\n",
    "import numpy as np"
   ]
  },
  {
   "cell_type": "code",
   "execution_count": 2,
   "metadata": {},
   "outputs": [],
   "source": [
    "f = open(\"slurm-10301619.txt\", \"r\") \n",
    "params = f.read()\n",
    "lines = params.split('\\n')"
   ]
  },
  {
   "cell_type": "code",
   "execution_count": 3,
   "metadata": {},
   "outputs": [],
   "source": [
    "I = 8\n",
    "K = 22\n",
    "MAXSKILLS = 4"
   ]
  },
  {
   "cell_type": "code",
   "execution_count": 4,
   "metadata": {},
   "outputs": [
    {
     "data": {
      "text/plain": [
       "22"
      ]
     },
     "execution_count": 4,
     "metadata": {},
     "output_type": "execute_result"
    }
   ],
   "source": [
    "theta = []\n",
    "learn = []\n",
    "lambda0 = []\n",
    "lambda1 = []\n",
    "g = []\n",
    "ss = []\n",
    "\n",
    "for line in lines[:I]:\n",
    "    line = line.split(\" \")\n",
    "    line = list(filter(('').__ne__, line))\n",
    "    theta.append(float(line[1]))\n",
    "\n",
    "for line in lines[I:I+K]:\n",
    "    line = line.split(\" \")\n",
    "    line = list(filter(('').__ne__, line))\n",
    "    lambda0.append(float(line[1]))\n",
    "\n",
    "for line in lines[I+K:I+2*K]:\n",
    "    line = line.split(\" \")\n",
    "    line = list(filter(('').__ne__, line))\n",
    "    lambda1.append(float(line[1]))\n",
    "\n",
    "for line in lines[I+2*K:I+3*K]:\n",
    "    line = line.split(\" \")\n",
    "    line = list(filter(('').__ne__, line))\n",
    "    learn.append(float(line[1]))\n",
    "\n",
    "for line in lines[I+3*K:I+4*K]:\n",
    "    line = line.split(\" \")\n",
    "    line = list(filter(('').__ne__, line))\n",
    "    g.append(float(line[1]))\n",
    "    \n",
    "for line in lines[I+4*K:I+5*K]:\n",
    "    line = line.split(\" \")\n",
    "    line = list(filter(('').__ne__, line))\n",
    "    ss.append(float(line[1]))\n",
    "\n",
    "len(lambda1)"
   ]
  },
  {
   "cell_type": "code",
   "execution_count": 7,
   "metadata": {},
   "outputs": [],
   "source": [
    "alpha = np.ones((I, K))\n",
    "def sigmoid(x):\n",
    "    return 1/(1+np.exp(-x))\n",
    "\n",
    "for i in range(I):\n",
    "    for k in range(K):\n",
    "        alpha[i][k] = sigmoid(1.7 * lambda1[k] * (theta[i] - lambda0[k]))\n",
    "os.chdir('../hotDINA')\n",
    "T_filename = \"T/T_130_all.npy\"\n",
    "Y_filename = \"Y/Y_130_all.npy\"\n",
    "idxY_filename = \"idxY/idxY_130_all.npy\"\n",
    "\n",
    "T = np.load(T_filename)\n",
    "Y = np.load(Y_filename)\n",
    "idxY = np.load(idxY_filename)\n",
    "\n",
    "pred_y = []\n",
    "alphas = [alpha.copy()]\n",
    "user_num = 1\n",
    "\n",
    "obs = 0\n",
    "\n",
    "for i in range(I):\n",
    "    for t in range(T[i]):\n",
    "        copy_alpha = alphas[len(alphas)-1][:].copy()\n",
    "        for s in range(MAXSKILLS):\n",
    "            k = int(idxY[i][t][s]) - 1\n",
    "            if k >= K:    continue\n",
    "            copy_alpha[i][k] = (copy_alpha[i][k] * ss[k])/(copy_alpha[i][k]*ss[k] + (1-copy_alpha[i][k])*g[k])\n",
    "        alphas.append(copy_alpha)"
   ]
  },
  {
   "cell_type": "code",
   "execution_count": 8,
   "metadata": {},
   "outputs": [
    {
     "data": {
      "image/png": "[encoded data removed]",
      "text/plain": [
       "<Figure size 432x288 with 1 Axes>"
      ]
     },
     "metadata": {
      "needs_background": "light"
     },
     "output_type": "display_data"
    }
   ],
   "source": [
    "import matplotlib.pyplot as plt\n",
    "\n",
    "knows = np.zeros(sum(T))\n",
    "\n",
    "for i in range(I):\n",
    "    start_opportunity = 0\n",
    "    if i > 0:\n",
    "        start_opportunity = sum(T[:i])\n",
    "    for t in range(start_opportunity , start_opportunity+T[i]):\n",
    "        alpha_t = alphas[t][i]\n",
    "        knows[t] = (np.mean(alpha_t))\n",
    "\n",
    "    plt.title(\"Avg know for user \" + str(i) + \" with \" + str(T[i]) + \" observations\")\n",
    "    plt.plot(np.arange(T[i]), knows[start_opportunity:start_opportunity+T[i]])\n",
    "plt.show()"
   ]
  },
  {
   "cell_type": "code",
   "execution_count": null,
   "metadata": {},
   "outputs": [],
   "source": []
  },
  {
   "cell_type": "code",
   "execution_count": null,
   "metadata": {},
   "outputs": [],
   "source": []
  }
 ],
 "metadata": {
  "kernelspec": {
   "display_name": "Python 3",
   "language": "python",
   "name": "python3"
  },
  "language_info": {
   "codemirror_mode": {
    "name": "ipython",
    "version": 3
   },
   "file_extension": ".py",
   "mimetype": "text/x-python",
   "name": "python",
   "nbconvert_exporter": "python",
   "pygments_lexer": "ipython3",
   "version": "3.7.6"
  }
 },
 "nbformat": 4,
 "nbformat_minor": 4
}
